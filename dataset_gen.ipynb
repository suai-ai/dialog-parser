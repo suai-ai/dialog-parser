{
 "cells": [
  {
   "cell_type": "code",
   "execution_count": 2,
   "metadata": {},
   "outputs": [],
   "source": [
    "# load telegram export file\n",
    "import json\n",
    "\n",
    "with open('dialogs/result.json', 'r', encoding='utf-8') as f:\n",
    "    data = json.load(f)"
   ]
  },
  {
   "cell_type": "code",
   "execution_count": 6,
   "metadata": {},
   "outputs": [
    {
     "data": {
      "text/plain": [
       "60400"
      ]
     },
     "execution_count": 6,
     "metadata": {},
     "output_type": "execute_result"
    }
   ],
   "source": [
    "len(data['messages'])"
   ]
  },
  {
   "cell_type": "code",
   "execution_count": 23,
   "metadata": {},
   "outputs": [
    {
     "data": {
      "text/plain": [
       "{'id': 294141,\n",
       " 'type': 'message',\n",
       " 'date': '2022-09-27T23:20:06',\n",
       " 'date_unixtime': '1664310006',\n",
       " 'from': 'Сергей Холодильник',\n",
       " 'from_id': 'user254968821',\n",
       " 'text': 'Как ебнуться к 19 гадам краткий курс бля',\n",
       " 'text_entities': [{'type': 'plain',\n",
       "   'text': 'Как ебнуться к 19 гадам краткий курс бля'}]}"
      ]
     },
     "execution_count": 23,
     "metadata": {},
     "output_type": "execute_result"
    }
   ],
   "source": [
    "# get random message\n",
    "import random\n",
    "random.choice(data['messages'])"
   ]
  },
  {
   "cell_type": "code",
   "execution_count": 53,
   "metadata": {},
   "outputs": [
    {
     "data": {
      "text/plain": [
       "[{'id': 160410,\n",
       "  'type': 'message',\n",
       "  'date': '2022-03-08T03:26:30',\n",
       "  'date_unixtime': '1646699190',\n",
       "  'from': 'Сергей Холодильник',\n",
       "  'from_id': 'user254968821',\n",
       "  'text': 'Но у него они явно новые. Имхо у него к ним всё было. И новые моники, с тачем, без, клавы, радиаторы, куллеры, корпуса разные',\n",
       "  'text_entities': [{'type': 'plain',\n",
       "    'text': 'Но у него они явно новые. Имхо у него к ним всё было. И новые моники, с тачем, без, клавы, радиаторы, куллеры, корпуса разные'}]},\n",
       " {'id': 160413,\n",
       "  'type': 'message',\n",
       "  'date': '2022-03-08T03:27:48',\n",
       "  'date_unixtime': '1646699268',\n",
       "  'from': 'Cyber Potato',\n",
       "  'from_id': 'user1049586649',\n",
       "  'text': 'Мне нужен этот чел\\nИ буду копить на малинку',\n",
       "  'text_entities': [{'type': 'plain',\n",
       "    'text': 'Мне нужен этот чел\\nИ буду копить на малинку'}]},\n",
       " {'id': 160415,\n",
       "  'type': 'message',\n",
       "  'date': '2022-03-08T03:29:28',\n",
       "  'date_unixtime': '1646699368',\n",
       "  'from': 'Сергей Холодильник',\n",
       "  'from_id': 'user254968821',\n",
       "  'text': [{'type': 'link', 'text': 'https://pikvm.org'}],\n",
       "  'text_entities': [{'type': 'link', 'text': 'https://pikvm.org'}]},\n",
       " {'id': 160423,\n",
       "  'type': 'message',\n",
       "  'date': '2022-03-08T03:30:14',\n",
       "  'date_unixtime': '1646699414',\n",
       "  'from': 'Сергей Холодильник',\n",
       "  'from_id': 'user254968821',\n",
       "  'photo': '(File not included. Change data exporting settings to download.)',\n",
       "  'width': 824,\n",
       "  'height': 614,\n",
       "  'text': '',\n",
       "  'text_entities': []}]"
      ]
     },
     "execution_count": 53,
     "metadata": {},
     "output_type": "execute_result"
    }
   ],
   "source": [
    "# get random chunk of consecutive messages\n",
    "# random.sample(data['messages'], 4) # random sample (but not consecutive)\n",
    "\n",
    "def get_random_chunk(data, chunk_size=4):\n",
    "    start_index = random.randint(0, len(data['messages']) - chunk_size)\n",
    "    return data['messages'][start_index:start_index+chunk_size]\n",
    "\n",
    "get_random_chunk(data)"
   ]
  },
  {
   "attachments": {},
   "cell_type": "markdown",
   "metadata": {},
   "source": [
    "# Get good samples"
   ]
  },
  {
   "cell_type": "code",
   "execution_count": 27,
   "metadata": {},
   "outputs": [
    {
     "name": "stderr",
     "output_type": "stream",
     "text": [
      "Truncation was not explicitly activated but `max_length` is provided a specific value, please use `truncation=True` to explicitly truncate examples to max length. Defaulting to 'longest_first' truncation strategy. If you encode pairs of sequences (GLUE-style) with the tokenizer you can select this strategy more precisely by providing a specific strategy to `truncation`.\n"
     ]
    }
   ],
   "source": [
    "import torch\n",
    "from transformers import AutoTokenizer, AutoModelForSequenceClassification\n",
    "\n",
    "tokenizer = AutoTokenizer.from_pretrained('tinkoff-ai/response-quality-classifier-base')\n",
    "model = AutoModelForSequenceClassification.from_pretrained('tinkoff-ai/response-quality-classifier-base')\n",
    "inputs = tokenizer('[CLS]привет[SEP]привет![SEP]как дела?[RESPONSE_TOKEN]норм, у тя как?', max_length=128, add_special_tokens=False, return_tensors='pt')\n",
    "with torch.inference_mode():\n",
    "    logits = model(**inputs).logits\n",
    "    probas = torch.sigmoid(logits)[0].cpu().detach().numpy()\n",
    "relevance, specificity = probas"
   ]
  },
  {
   "cell_type": "code",
   "execution_count": 28,
   "metadata": {},
   "outputs": [
    {
     "data": {
      "text/plain": [
       "(0.6259156, 0.44406536)"
      ]
     },
     "execution_count": 28,
     "metadata": {},
     "output_type": "execute_result"
    }
   ],
   "source": [
    "relevance, specificity"
   ]
  },
  {
   "cell_type": "code",
   "execution_count": 54,
   "metadata": {},
   "outputs": [],
   "source": [
    "def to_text(obj):\n",
    "    # obj can be a string or a list of strings / dicts\n",
    "    if isinstance(obj, str):\n",
    "        return obj\n",
    "    elif isinstance(obj, list):\n",
    "        return ' '.join([to_text(o) for o in obj])\n",
    "    elif isinstance(obj, dict):\n",
    "        return to_text(obj['text'])\n",
    "    else:\n",
    "        return ''"
   ]
  },
  {
   "cell_type": "code",
   "execution_count": 100,
   "metadata": {},
   "outputs": [],
   "source": [
    "def cleanup_chunk(chunk):\n",
    "    chunk = [to_text(c) for c in chunk]\n",
    "    chunk = [c for c in chunk if c != '' and len(c) < 512]\n",
    "    return None if len(chunk) < 4 else chunk"
   ]
  },
  {
   "cell_type": "code",
   "execution_count": 76,
   "metadata": {},
   "outputs": [
    {
     "data": {
      "text/plain": [
       "['Денис....',\n",
       " 'Я дошёл до той стадии, когда у меня в голове реализация кода на си будет проще чем в питоне.....',\n",
       " 'АХВХАХАХ СЕРЕГА',\n",
       " 'Это клиника']"
      ]
     },
     "execution_count": 76,
     "metadata": {},
     "output_type": "execute_result"
    }
   ],
   "source": [
    "def get_normal_chunk(data):\n",
    "    sample = []\n",
    "    while not sample:\n",
    "        sample = cleanup_chunk(get_random_chunk(data))\n",
    "    return sample\n",
    "\n",
    "\n",
    "get_normal_chunk(data)\n"
   ]
  },
  {
   "cell_type": "code",
   "execution_count": 102,
   "metadata": {},
   "outputs": [
    {
     "name": "stderr",
     "output_type": "stream",
     "text": [
      "Downloading tokenizer_config.json: 100%|██████████| 550/550 [00:00<00:00, 551kB/s]\n",
      "Downloading vocab.txt: 100%|██████████| 1.34M/1.34M [00:27<00:00, 50.2kB/s]\n",
      "Downloading tokenizer.json: 100%|██████████| 2.87M/2.87M [01:14<00:00, 40.3kB/s]\n",
      "Downloading added_tokens.json: 100%|██████████| 28.0/28.0 [00:00<00:00, 9.34kB/s]\n",
      "Downloading special_tokens_map.json: 100%|██████████| 163/163 [00:00<00:00, 81.6kB/s]\n",
      "Downloading config.json: 100%|██████████| 1.12k/1.12k [00:00<00:00, 575kB/s]\n",
      "Downloading pytorch_model.bin: 100%|██████████| 624M/624M [02:02<00:00, 5.33MB/s] \n"
     ]
    }
   ],
   "source": [
    "import torch\n",
    "from transformers import AutoTokenizer, AutoModelForSequenceClassification\n",
    "\n",
    "# globals for classification\n",
    "tokenizer = AutoTokenizer.from_pretrained(\n",
    "    'tinkoff-ai/response-quality-classifier-base')\n",
    "model = AutoModelForSequenceClassification.from_pretrained(\n",
    "    'tinkoff-ai/response-quality-classifier-base')\n",
    "\n",
    "# globals for toxicity\n",
    "tokenizer_tox = AutoTokenizer.from_pretrained(\n",
    "    'tinkoff-ai/response-toxicity-classifier-base')\n",
    "model_tox = AutoModelForSequenceClassification.from_pretrained(\n",
    "    'tinkoff-ai/response-toxicity-classifier-base')\n"
   ]
  },
  {
   "cell_type": "code",
   "execution_count": 98,
   "metadata": {},
   "outputs": [
    {
     "name": "stdout",
     "output_type": "stream",
     "text": [
      "- Ты на локалке хостить будешь??\n",
      "- Ну да?\n",
      "- А на кой чёрт мне сервак ещё\n",
      "- Кстати потом покажи как там это делается, с генерацией ssl сертификата\n",
      "\n",
      "relevance: 71.63%, specificity: 80.51%\n"
     ]
    }
   ],
   "source": [
    "def get_relevance_specificity(msg_list):\n",
    "    if len(msg_list) != 4:\n",
    "        return None\n",
    "    inputs = tokenizer('[CLS]{}[SEP]{}[SEP]{}[RESPONSE_TOKEN]{}'.format(\n",
    "        *msg_list), add_special_tokens=False, return_tensors='pt')\n",
    "    with torch.inference_mode():\n",
    "        logits = model(**inputs).logits\n",
    "        probas = torch.sigmoid(logits)[0].cpu().detach().numpy()\n",
    "    return probas\n",
    "\n",
    "\n",
    "def cool_format(n, r, s, t):\n",
    "    msgs = '\\n'.join('- ' + m for m in n)\n",
    "    print(f\"{msgs}\\n\\nrelevance: {r*100:.2f}%, specificity: {s*100:.2f}%\")\n",
    "\n",
    "\n",
    "norm_chunk = get_normal_chunk(data)\n",
    "relevance, specificity = get_relevance_specificity(norm_chunk)\n",
    "cool_format(norm_chunk, relevance, specificity)\n"
   ]
  },
  {
   "attachments": {},
   "cell_type": "markdown",
   "metadata": {},
   "source": [
    "# Приколы"
   ]
  },
  {
   "cell_type": "code",
   "execution_count": 101,
   "metadata": {},
   "outputs": [
    {
     "name": "stderr",
     "output_type": "stream",
     "text": [
      "100%|██████████| 1000/1000 [01:44<00:00,  9.53it/s]"
     ]
    },
    {
     "name": "stdout",
     "output_type": "stream",
     "text": [
      "Average relevance: 34.47%, average specificity: 29.89%\n"
     ]
    },
    {
     "name": "stderr",
     "output_type": "stream",
     "text": [
      "\n"
     ]
    }
   ],
   "source": [
    "from tqdm import trange\n",
    "\n",
    "aver_relevance, aver_specificity = 0, 0\n",
    "\n",
    "for i in trange(1000):\n",
    "    norm_chunk = get_normal_chunk(data)\n",
    "    relevance, specificity = get_relevance_specificity(norm_chunk)\n",
    "    aver_relevance += relevance\n",
    "    aver_specificity += specificity\n",
    "\n",
    "aver_relevance /= 1000\n",
    "aver_specificity /= 1000\n",
    "\n",
    "print(f\"Average relevance: {aver_relevance*100:.2f}%, average specificity: {aver_specificity*100:.2f}%\")"
   ]
  },
  {
   "cell_type": "code",
   "execution_count": 111,
   "metadata": {},
   "outputs": [
    {
     "name": "stdout",
     "output_type": "stream",
     "text": [
      "- Блять, почему я при использовании веб фреймворка должен установить python2.7 и С компилятор\n",
      "- А реально зачем?\n",
      "- АХАХАХАХХААХАХАХАХАХАХАХАХАХАХАХХАХАХА\n",
      "- ЛАДНО АХАХАХАХ\n",
      "\n",
      "relevance: 24.37%, specificity: 13.96%\n",
      "ok: 99.82%, toxic: 13.90%, risks: 8.88%, severe_toxic: 28.01%\n"
     ]
    }
   ],
   "source": [
    "def get_toxicity(msg_list):\n",
    "    if len(msg_list) != 4:\n",
    "        return None\n",
    "    inputs = tokenizer_tox(\n",
    "        '[CLS]{}[SEP]{}[SEP]{}[RESPONSE_TOKEN]{}'.format(*msg_list),\n",
    "        add_special_tokens=False, return_tensors='pt')\n",
    "    with torch.inference_mode():\n",
    "        logits = model_tox(**inputs).logits\n",
    "        probas = torch.sigmoid(logits)[0].cpu().detach().numpy()\n",
    "    return probas\n",
    "\n",
    "\n",
    "chunk = get_normal_chunk(data)\n",
    "relevance, specificity = get_relevance_specificity(chunk)\n",
    "toxicity = get_toxicity(chunk)\n",
    "\n",
    "\n",
    "def cool_format(n, r, s, t):\n",
    "    msgs = '\\n'.join('- ' + m for m in n)\n",
    "    print(f\"{msgs}\\n\\nrelevance: {r*100:.2f}%, specificity: {s*100:.2f}%\")\n",
    "    # print(\"ok: {.2f}, toxic: {.2f}, risks: {.2f}, severe_toxic: {.2f}\".format(*t))\n",
    "    print(f\"ok: {t[0]*100:.2f}%, toxic: {t[1]*100:.2f}%, risks: {t[2]*100:.2f}%, severe_toxic: {t[3]*100:.2f}%\")\n",
    "\n",
    "\n",
    "cool_format(chunk, relevance, specificity, toxicity)\n"
   ]
  },
  {
   "attachments": {},
   "cell_type": "markdown",
   "metadata": {},
   "source": [
    "# Приколы 2"
   ]
  },
  {
   "cell_type": "code",
   "execution_count": 122,
   "metadata": {},
   "outputs": [
    {
     "name": "stderr",
     "output_type": "stream",
     "text": [
      "  2%|▏         | 18/1000 [00:03<03:10,  5.16it/s]"
     ]
    },
    {
     "name": "stdout",
     "output_type": "stream",
     "text": [
      "- Вот о чём я говорил кста\n",
      "- Можешь распечатать один листок самостоялки Черняк\n",
      "- Я попробую порешаю\n",
      "- А то на телефоны агрится\n",
      "\n",
      "relevance: 25.52%, specificity: 21.31%\n",
      "ok: 68.48%, toxic: 4.76%, risks: 14.32%, severe_toxic: 97.88%\n",
      "\n"
     ]
    },
    {
     "name": "stderr",
     "output_type": "stream",
     "text": [
      "  3%|▎         | 27/1000 [00:05<03:38,  4.46it/s]"
     ]
    },
    {
     "name": "stdout",
     "output_type": "stream",
     "text": [
      "- О, реально годно\n",
      "- И под мобилку оптимизировано\n",
      "- и всё для докера😍\n",
      "- Просто в одну команду ебануть и всё\n",
      "\n",
      "relevance: 30.36%, specificity: 35.91%\n",
      "ok: 82.59%, toxic: 1.41%, risks: 43.71%, severe_toxic: 93.73%\n",
      "\n"
     ]
    },
    {
     "name": "stderr",
     "output_type": "stream",
     "text": [
      "  3%|▎         | 33/1000 [00:07<03:57,  4.07it/s]"
     ]
    },
    {
     "name": "stdout",
     "output_type": "stream",
     "text": [
      "- Я бы крука в недопонятых гениев ещё записал\n",
      "- Лучше сюда\n",
      "- Да не\n",
      "- Он не идиот\n",
      "\n",
      "relevance: 17.75%, specificity: 10.16%\n",
      "ok: 19.17%, toxic: 4.66%, risks: 36.70%, severe_toxic: 98.68%\n",
      "\n"
     ]
    },
    {
     "name": "stderr",
     "output_type": "stream",
     "text": [
      "  6%|▌         | 58/1000 [00:13<03:16,  4.80it/s]"
     ]
    },
    {
     "name": "stdout",
     "output_type": "stream",
     "text": [
      "- Соглы(\n",
      "- Я щас заварачиваю все данные телеграмовских сообщений в пидантик\n",
      "- И я счастлив\n",
      "- Ты пьяный\n",
      "\n",
      "relevance: 23.63%, specificity: 18.16%\n",
      "ok: 23.06%, toxic: 10.38%, risks: 22.60%, severe_toxic: 98.42%\n",
      "\n"
     ]
    },
    {
     "name": "stderr",
     "output_type": "stream",
     "text": [
      "  7%|▋         | 73/1000 [00:16<03:19,  4.64it/s]"
     ]
    },
    {
     "name": "stdout",
     "output_type": "stream",
     "text": [
      "- ПХАХАХАХХАХХАХА\n",
      "- ебать серега ты богат\n",
      "- И это за 2 дня...\n",
      "- скамеры совсем обленились\n",
      "\n",
      "relevance: 20.76%, specificity: 19.71%\n",
      "ok: 30.21%, toxic: 30.40%, risks: 22.43%, severe_toxic: 90.74%\n",
      "\n"
     ]
    },
    {
     "name": "stderr",
     "output_type": "stream",
     "text": [
      "  9%|▉         | 89/1000 [00:20<02:49,  5.36it/s]"
     ]
    },
    {
     "name": "stdout",
     "output_type": "stream",
     "text": [
      "- Именно\n",
      "- Передавай Юле привет!\n",
      "- !!.\n",
      "- Ахуенно\n",
      "\n",
      "relevance: 35.19%, specificity: 1.80%\n",
      "ok: 50.05%, toxic: 3.14%, risks: 27.48%, severe_toxic: 98.08%\n",
      "\n"
     ]
    },
    {
     "name": "stderr",
     "output_type": "stream",
     "text": [
      " 10%|█         | 102/1000 [00:22<03:02,  4.92it/s]"
     ]
    },
    {
     "name": "stdout",
     "output_type": "stream",
     "text": [
      "- И мне норм\n",
      "- Оно само ага\n",
      "- Вот это то что мне надо🤡\n",
      "- Ну тогда это самые ахуенные отношения для тебя\n",
      "\n",
      "relevance: 62.26%, specificity: 63.77%\n",
      "ok: 69.31%, toxic: 2.39%, risks: 21.69%, severe_toxic: 97.97%\n",
      "\n"
     ]
    },
    {
     "name": "stderr",
     "output_type": "stream",
     "text": [
      " 10%|█         | 103/1000 [00:23<04:05,  3.65it/s]"
     ]
    },
    {
     "name": "stdout",
     "output_type": "stream",
     "text": [
      "- https://youtube.com/shorts/wC3K-2f99Us?feature=share\n",
      "- https://youtube.com/shorts/EsV3wS0Od1w?feature=share\n",
      "- Пиздец ЭАЫАХЗАВХПХВВХВХ\n",
      "- Смешно орет\n",
      "\n",
      "relevance: 39.84%, specificity: 30.30%\n",
      "ok: 61.08%, toxic: 2.86%, risks: 27.49%, severe_toxic: 97.84%\n",
      "\n"
     ]
    },
    {
     "name": "stderr",
     "output_type": "stream",
     "text": [
      " 12%|█▏        | 118/1000 [00:26<03:10,  4.62it/s]"
     ]
    },
    {
     "name": "stdout",
     "output_type": "stream",
     "text": [
      "- Новейшая разработка питерской фармакологии\n",
      "- Ну короче общайтесь, встречайтесь\n",
      "- Так ну реально, нельзя блять такие фразы парням говорить\n",
      "- Это что за хуйня\n",
      "\n",
      "relevance: 13.22%, specificity: 13.03%\n",
      "ok: 4.18%, toxic: 7.88%, risks: 67.16%, severe_toxic: 97.67%\n",
      "\n"
     ]
    },
    {
     "name": "stderr",
     "output_type": "stream",
     "text": [
      " 15%|█▍        | 148/1000 [00:34<03:36,  3.94it/s]"
     ]
    },
    {
     "name": "stdout",
     "output_type": "stream",
     "text": [
      "- Умирай\n",
      "- Так не\n",
      "- Она всё правильно сделала\n",
      "- Типа, ну у меня только температура и голову колит вместе с мышцами(скорее кости). Про температуру пиздеж, а вот про ломату нет\n",
      "\n",
      "relevance: 25.18%, specificity: 34.09%\n",
      "ok: 88.18%, toxic: 1.94%, risks: 26.26%, severe_toxic: 93.68%\n",
      "\n"
     ]
    },
    {
     "name": "stderr",
     "output_type": "stream",
     "text": [
      " 18%|█▊        | 175/1000 [00:41<02:40,  5.15it/s]"
     ]
    },
    {
     "name": "stdout",
     "output_type": "stream",
     "text": [
      "- Справедливо\n",
      "- 😎 😎 😎 \n",
      "- Может ты подскажешь\n",
      "- Че это за альфа нахуй в решении λ\n",
      "\n",
      "relevance: 23.03%, specificity: 31.24%\n",
      "ok: 76.14%, toxic: 4.42%, risks: 21.29%, severe_toxic: 94.46%\n",
      "\n"
     ]
    },
    {
     "name": "stderr",
     "output_type": "stream",
     "text": [
      " 18%|█▊        | 176/1000 [00:41<02:31,  5.43it/s]"
     ]
    },
    {
     "name": "stdout",
     "output_type": "stream",
     "text": [
      "- там в разделе цвет вроде\n",
      "- насыщенность или яркость\n",
      "- насыщ\n",
      "- заебато?\n",
      "\n",
      "relevance: 22.24%, specificity: 20.31%\n",
      "ok: 40.70%, toxic: 7.39%, risks: 17.48%, severe_toxic: 98.21%\n",
      "\n"
     ]
    },
    {
     "name": "stderr",
     "output_type": "stream",
     "text": [
      " 24%|██▍       | 241/1000 [00:55<02:38,  4.78it/s]"
     ]
    },
    {
     "name": "stdout",
     "output_type": "stream",
     "text": [
      "- за такое бан\n",
      "- да да\n",
      "- Я не эксперт, но по юзер экспренсу локальная монгодб раз в 5 увеличила скорость\n",
      "- щас свой мудл запущу\n",
      "\n",
      "relevance: 58.84%, specificity: 71.46%\n",
      "ok: 1.83%, toxic: 8.14%, risks: 89.59%, severe_toxic: 94.73%\n",
      "\n"
     ]
    },
    {
     "name": "stderr",
     "output_type": "stream",
     "text": [
      " 25%|██▍       | 249/1000 [00:57<02:20,  5.34it/s]"
     ]
    },
    {
     "name": "stdout",
     "output_type": "stream",
     "text": [
      "- ДЕНИС\n",
      "- А\n",
      "- не\n",
      "- хуйня\n",
      "\n",
      "relevance: 16.36%, specificity: 8.56%\n",
      "ok: 48.38%, toxic: 2.44%, risks: 39.55%, severe_toxic: 97.05%\n",
      "\n"
     ]
    },
    {
     "name": "stderr",
     "output_type": "stream",
     "text": [
      " 30%|██▉       | 299/1000 [01:08<02:14,  5.23it/s]"
     ]
    },
    {
     "name": "stdout",
     "output_type": "stream",
     "text": [
      "- блять\n",
      "- оуууууууууууу 🥺\n",
      "- https://youtu.be/S93Wg4RUilg\n",
      "- Че снова уснуть не можешь\n",
      "\n",
      "relevance: 21.58%, specificity: 23.21%\n",
      "ok: 72.55%, toxic: 5.16%, risks: 13.01%, severe_toxic: 97.77%\n",
      "\n"
     ]
    },
    {
     "name": "stderr",
     "output_type": "stream",
     "text": [
      " 35%|███▌      | 351/1000 [01:19<02:29,  4.35it/s]"
     ]
    },
    {
     "name": "stdout",
     "output_type": "stream",
     "text": [
      "- ура?\n",
      "- Сколько по времени делает?\n",
      "- Ну я ещё декодер не написал\n",
      "- 1200 символов ему нехер делать\n",
      "\n",
      "relevance: 57.38%, specificity: 58.95%\n",
      "ok: 87.60%, toxic: 2.24%, risks: 18.26%, severe_toxic: 96.40%\n",
      "\n"
     ]
    },
    {
     "name": "stderr",
     "output_type": "stream",
     "text": [
      " 41%|████      | 409/1000 [01:33<02:24,  4.10it/s]"
     ]
    },
    {
     "name": "stdout",
     "output_type": "stream",
     "text": [
      "- И тут совсем не так, от того я скорее крайне удивлен\n",
      "- пиздец может быть ты слишком сильно перегорел еще со всемен тех отношений, и твое восприятие  отношений в принципе  изменилось\n",
      "- Не знаю... либо не так привязался, но это тоже пиздеж\n",
      "- пиздеж, мы видели как ты мучался без нее летом\n",
      "\n",
      "relevance: 80.07%, specificity: 88.63%\n",
      "ok: 45.12%, toxic: 1.76%, risks: 42.15%, severe_toxic: 98.09%\n",
      "\n"
     ]
    },
    {
     "name": "stderr",
     "output_type": "stream",
     "text": [
      " 42%|████▏     | 419/1000 [01:35<01:56,  5.00it/s]"
     ]
    },
    {
     "name": "stdout",
     "output_type": "stream",
     "text": [
      "- знаешь че думаю\n",
      "- Надо за основу взять сбербанковскую gpt\n",
      "- иди спи\n",
      "- и натренить на ней\n",
      "\n",
      "relevance: 22.52%, specificity: 16.08%\n",
      "ok: 62.65%, toxic: 3.82%, risks: 47.98%, severe_toxic: 90.79%\n",
      "\n"
     ]
    },
    {
     "name": "stderr",
     "output_type": "stream",
     "text": [
      " 44%|████▎     | 436/1000 [01:39<01:49,  5.15it/s]"
     ]
    },
    {
     "name": "stdout",
     "output_type": "stream",
     "text": [
      "- 23 минута\n",
      "- ПИЗДЕЦ\n",
      "- МАМА\n",
      "- Ебать ясик там в слезах\n",
      "\n",
      "relevance: 25.66%, specificity: 37.37%\n",
      "ok: 35.40%, toxic: 2.09%, risks: 69.21%, severe_toxic: 95.08%\n",
      "\n"
     ]
    },
    {
     "name": "stderr",
     "output_type": "stream",
     "text": [
      " 45%|████▍     | 447/1000 [01:43<03:23,  2.72it/s]"
     ]
    },
    {
     "name": "stdout",
     "output_type": "stream",
     "text": [
      "- Удаляю папку в итоге с лабами (а там релизная версия 5 лабы. 7, 8), и капля 6\n",
      "- А ПОТОМ ОТКРЫВАЮ ПАПКУ БЭКАП\n",
      "- 😢 🔫 🔫 🔫 🔫 🔫 🔫 🔫 🔫 🔫 \n",
      "- Пиздец.....\n",
      "А ты в гитхаб не отгружал..\n",
      "\n",
      "relevance: 31.80%, specificity: 53.68%\n",
      "ok: 53.37%, toxic: 4.15%, risks: 22.21%, severe_toxic: 97.74%\n",
      "\n"
     ]
    },
    {
     "name": "stderr",
     "output_type": "stream",
     "text": [
      " 49%|████▊     | 486/1000 [01:52<01:57,  4.39it/s]"
     ]
    },
    {
     "name": "stdout",
     "output_type": "stream",
     "text": [
      "- да забей чел, мы просто по рофлу тыкали\n",
      "- я даже не старался\n",
      "- одобряю\n",
      "- я иду писать эту хуету\n",
      "\n",
      "relevance: 25.23%, specificity: 33.24%\n",
      "ok: 42.56%, toxic: 3.91%, risks: 25.22%, severe_toxic: 98.23%\n",
      "\n"
     ]
    },
    {
     "name": "stderr",
     "output_type": "stream",
     "text": [
      " 50%|█████     | 503/1000 [01:57<02:07,  3.90it/s]"
     ]
    },
    {
     "name": "stdout",
     "output_type": "stream",
     "text": [
      "- https://music.yandex.ru/users/deniz.tchurilov/playlists/1004?utm_medium=copy_link\n",
      "- Сегодня ночью кушать захотелось\n",
      "- Сегодня ночью хотелось просто уснуть\n",
      "- А то пиздошит пиздец\n",
      "\n",
      "relevance: 24.86%, specificity: 22.72%\n",
      "ok: 21.06%, toxic: 3.59%, risks: 46.95%, severe_toxic: 98.09%\n",
      "\n"
     ]
    },
    {
     "name": "stderr",
     "output_type": "stream",
     "text": [
      " 64%|██████▎   | 637/1000 [02:26<01:17,  4.71it/s]"
     ]
    },
    {
     "name": "stdout",
     "output_type": "stream",
     "text": [
      "- Я ЩА ЕЩЁ КАЖДЫЙ ОБЪЕКТ ВЫРЕЖУ В СЦЕНЕ\n",
      "- Типа листва, знак\n",
      "- И будет ебать ахуеть 3д эфект\n",
      "- Серёга ты опять пьяный\n",
      "\n",
      "relevance: 15.65%, specificity: 22.10%\n",
      "ok: 64.16%, toxic: 6.30%, risks: 12.74%, severe_toxic: 97.93%\n",
      "\n"
     ]
    },
    {
     "name": "stderr",
     "output_type": "stream",
     "text": [
      " 65%|██████▍   | 646/1000 [02:28<01:22,  4.30it/s]"
     ]
    },
    {
     "name": "stdout",
     "output_type": "stream",
     "text": [
      "- Нет, отношения, я считаю, что у нас могут получится очень хороши. Легко понимаем друг друга. Хорошо, когда мы и рядом и на расстоянии. В общении все вроде тоже неплохо. Может я не хочу видеть негатив, но я правда не вижу...\n",
      "- погоди, так ты не хочешь и расставания с ней, но и таких отношений тоже не хочешь?\n",
      "- так чего ты хочешь?\n",
      "- да вы пиздец милашки\n",
      "\n",
      "relevance: 32.37%, specificity: 37.44%\n",
      "ok: 8.88%, toxic: 6.55%, risks: 46.78%, severe_toxic: 98.46%\n",
      "\n"
     ]
    },
    {
     "name": "stderr",
     "output_type": "stream",
     "text": [
      " 66%|██████▌   | 657/1000 [02:30<01:09,  4.95it/s]"
     ]
    },
    {
     "name": "stdout",
     "output_type": "stream",
     "text": [
      "- Ну так я с утра обычно это делаю\n",
      "- Понял\n",
      "- Надо было тебя разбудить\n",
      "- Блять в итоге надо одну физру ехать и смысла нет, но и так ехать нельзя\n",
      "\n",
      "relevance: 19.61%, specificity: 29.24%\n",
      "ok: 58.57%, toxic: 2.67%, risks: 25.17%, severe_toxic: 98.20%\n",
      "\n"
     ]
    },
    {
     "name": "stderr",
     "output_type": "stream",
     "text": [
      " 69%|██████▉   | 690/1000 [02:38<01:10,  4.38it/s]"
     ]
    },
    {
     "name": "stdout",
     "output_type": "stream",
     "text": [
      "- а на что ходили\n",
      "- Ужастик\n",
      "- Скрежет\n",
      "- Хуйня\n",
      "\n",
      "relevance: 17.04%, specificity: 7.51%\n",
      "ok: 26.38%, toxic: 4.93%, risks: 29.85%, severe_toxic: 98.46%\n",
      "\n"
     ]
    },
    {
     "name": "stderr",
     "output_type": "stream",
     "text": [
      " 70%|███████   | 703/1000 [02:41<01:38,  3.03it/s]"
     ]
    },
    {
     "name": "stdout",
     "output_type": "stream",
     "text": [
      "- https://www.youtube.com/watch?v=m0gfL4zzHDI&list=PLrEHL9lfXqmXR_PDKWUduCkK9EAwgQpit&index=20\n",
      "- со звуком\n",
      "- Тебя тикток извратил?\n",
      "- Как же хочется такому научиться....\n",
      "\n",
      "relevance: 70.20%, specificity: 66.78%\n",
      "ok: 81.39%, toxic: 2.03%, risks: 27.61%, severe_toxic: 95.32%\n",
      "\n"
     ]
    },
    {
     "name": "stderr",
     "output_type": "stream",
     "text": [
      " 71%|███████▏  | 713/1000 [02:43<01:10,  4.06it/s]"
     ]
    },
    {
     "name": "stdout",
     "output_type": "stream",
     "text": [
      "- очень\n",
      "- да\n",
      "- я пока себя успокаиваю\n",
      "- Но я тоже понимаю, что ты и сам понимаешь, что он не на столько урод\n",
      "\n",
      "relevance: 50.15%, specificity: 53.42%\n",
      "ok: 24.40%, toxic: 2.30%, risks: 61.05%, severe_toxic: 97.53%\n",
      "\n"
     ]
    },
    {
     "name": "stderr",
     "output_type": "stream",
     "text": [
      " 73%|███████▎  | 729/1000 [02:47<00:55,  4.93it/s]"
     ]
    },
    {
     "name": "stdout",
     "output_type": "stream",
     "text": [
      "- 🐸 🐸 🐸 \n",
      "- Ахех\n",
      "- 🐈 🐈 🐈 🐈 🐈 \n",
      "- Фу пошлятина\n",
      "\n",
      "relevance: 19.42%, specificity: 15.20%\n",
      "ok: 86.14%, toxic: 3.71%, risks: 11.85%, severe_toxic: 96.63%\n",
      "\n"
     ]
    },
    {
     "name": "stderr",
     "output_type": "stream",
     "text": [
      " 75%|███████▍  | 748/1000 [02:51<00:55,  4.54it/s]"
     ]
    },
    {
     "name": "stdout",
     "output_type": "stream",
     "text": [
      "- наш курс\n",
      "- жить жизнь\n",
      "- только понимаешь что не на питоне\n",
      "- Да похуй вообще\n",
      "\n",
      "relevance: 19.40%, specificity: 10.19%\n",
      "ok: 71.46%, toxic: 2.95%, risks: 19.97%, severe_toxic: 97.47%\n",
      "\n"
     ]
    },
    {
     "name": "stderr",
     "output_type": "stream",
     "text": [
      " 79%|███████▊  | 786/1000 [02:59<00:39,  5.43it/s]"
     ]
    },
    {
     "name": "stdout",
     "output_type": "stream",
     "text": [
      "- Ща тесты напишу быстро\n",
      "- Все, нужное увидел\n",
      "- бля\n",
      "- ну и говнокод..\n",
      "\n",
      "relevance: 15.40%, specificity: 13.42%\n",
      "ok: 33.33%, toxic: 10.31%, risks: 28.57%, severe_toxic: 95.24%\n",
      "\n"
     ]
    },
    {
     "name": "stderr",
     "output_type": "stream",
     "text": [
      " 79%|███████▉  | 789/1000 [02:59<00:42,  4.95it/s]"
     ]
    },
    {
     "name": "stdout",
     "output_type": "stream",
     "text": [
      "- короче все, с днем сна\n",
      "- Я реально хочу в этом плане поработать с ней\n",
      "- Но пиздец, хуй знает как это ещё все нормально объяснить\n",
      "- да ты заебато объясняешь\n",
      "\n",
      "relevance: 58.84%, specificity: 61.42%\n",
      "ok: 19.03%, toxic: 5.72%, risks: 31.84%, severe_toxic: 98.75%\n",
      "\n"
     ]
    },
    {
     "name": "stderr",
     "output_type": "stream",
     "text": [
      " 81%|████████  | 807/1000 [03:03<00:35,  5.41it/s]"
     ]
    },
    {
     "name": "stdout",
     "output_type": "stream",
     "text": [
      "- Будешь биты писать\n",
      "- Ахаха\n",
      "- Не\n",
      "- синтезатор помойка\n",
      "\n",
      "relevance: 29.75%, specificity: 20.90%\n",
      "ok: 3.15%, toxic: 23.12%, risks: 85.76%, severe_toxic: 85.88%\n",
      "\n"
     ]
    },
    {
     "name": "stderr",
     "output_type": "stream",
     "text": [
      " 83%|████████▎ | 828/1000 [03:08<00:36,  4.69it/s]"
     ]
    },
    {
     "name": "stdout",
     "output_type": "stream",
     "text": [
      "- Надо будет посмотреть\n",
      "- Угадывание хеша следующего элемента на основе предыдущих\n",
      "- 🧐\n",
      "- а нахуя\n",
      "\n",
      "relevance: 19.67%, specificity: 6.78%\n",
      "ok: 8.35%, toxic: 5.33%, risks: 54.86%, severe_toxic: 98.43%\n",
      "\n",
      "- Сладкий сон\n",
      "- Ты рофлишь? Юля ждет\n",
      "- Ахахахах\n",
      "- че ты в кафедре писал?\n",
      "\n",
      "relevance: 22.35%, specificity: 31.81%\n",
      "ok: 79.69%, toxic: 4.09%, risks: 11.97%, severe_toxic: 97.64%\n",
      "\n"
     ]
    },
    {
     "name": "stderr",
     "output_type": "stream",
     "text": [
      " 84%|████████▎ | 836/1000 [03:09<00:30,  5.34it/s]"
     ]
    },
    {
     "name": "stdout",
     "output_type": "stream",
     "text": [
      "- (да) \n",
      "- (что да)\n",
      "- (пизда) \n",
      "- (урыл)\n",
      "\n",
      "relevance: 33.70%, specificity: 29.83%\n",
      "ok: 47.22%, toxic: 5.63%, risks: 60.98%, severe_toxic: 86.44%\n",
      "\n"
     ]
    },
    {
     "name": "stderr",
     "output_type": "stream",
     "text": [
      " 86%|████████▌ | 858/1000 [03:14<00:40,  3.47it/s]"
     ]
    },
    {
     "name": "stdout",
     "output_type": "stream",
     "text": [
      "- 💻 💻 💻 💻 \n",
      "- ДО СЛЕЗ\n",
      "- я так понимаю у вас крук это главный злодей в вашем аниме\n",
      "- в детстве ебали видимо\n",
      "\n",
      "relevance: 21.01%, specificity: 17.73%\n",
      "ok: 15.13%, toxic: 5.81%, risks: 40.70%, severe_toxic: 98.32%\n",
      "\n"
     ]
    },
    {
     "name": "stderr",
     "output_type": "stream",
     "text": [
      " 88%|████████▊ | 885/1000 [03:21<00:25,  4.42it/s]"
     ]
    },
    {
     "name": "stdout",
     "output_type": "stream",
     "text": [
      "- блять мне показалось это киркоров\n",
      "- 🐈‍⬛ 🐈‍⬛ 🐈‍⬛ \n",
      "- кринжа особого не было, но и понимания тоже\n",
      "- Я бы согласился ей объяснять только для того, чтобы после очередного Ага, спасибо. Сказать, да бля я ж понимаю что ты не понимаешь\n",
      "\n",
      "relevance: 30.22%, specificity: 41.25%\n",
      "ok: 53.76%, toxic: 2.13%, risks: 44.58%, severe_toxic: 96.14%\n",
      "\n"
     ]
    },
    {
     "name": "stderr",
     "output_type": "stream",
     "text": [
      " 89%|████████▉ | 893/1000 [03:23<00:21,  5.03it/s]"
     ]
    },
    {
     "name": "stdout",
     "output_type": "stream",
     "text": [
      "- + конспекты у всех одинаковы из-за методички\n",
      "- логично\n",
      "- пиши, будет збс\n",
      "- И сами авторитета залутаем\n",
      "\n",
      "relevance: 19.42%, specificity: 6.41%\n",
      "ok: 9.30%, toxic: 5.64%, risks: 49.56%, severe_toxic: 98.43%\n",
      "\n"
     ]
    },
    {
     "name": "stderr",
     "output_type": "stream",
     "text": [
      " 91%|█████████ | 908/1000 [03:27<00:22,  4.11it/s]"
     ]
    },
    {
     "name": "stdout",
     "output_type": "stream",
     "text": [
      "- Вот зря ты спишь\n",
      "- в 18 00 разбор марковской\n",
      "- АЭАЭАХАЭПХХПХПХПХП\n",
      "- Кинь Ксюше\n",
      "\n",
      "relevance: 23.46%, specificity: 18.25%\n",
      "ok: 89.59%, toxic: 3.04%, risks: 12.72%, severe_toxic: 96.09%\n",
      "\n"
     ]
    },
    {
     "name": "stderr",
     "output_type": "stream",
     "text": [
      " 94%|█████████▎| 937/1000 [03:35<00:18,  3.43it/s]"
     ]
    },
    {
     "name": "stdout",
     "output_type": "stream",
     "text": [
      "- А к тому, что она умеет в логические умозаключения и САМОАНАЛИЗ\n",
      "- хахаха\n",
      "- ааааа\n",
      "- ебать\n",
      "\n",
      "relevance: 17.94%, specificity: 5.43%\n",
      "ok: 18.41%, toxic: 2.21%, risks: 90.12%, severe_toxic: 91.56%\n",
      "\n"
     ]
    },
    {
     "name": "stderr",
     "output_type": "stream",
     "text": [
      " 94%|█████████▍| 942/1000 [03:36<00:13,  4.27it/s]"
     ]
    },
    {
     "name": "stdout",
     "output_type": "stream",
     "text": [
      "- ещё и на гасту\n",
      "- ради росписи\n",
      "- я че-то тоже\n",
      "- Фу блять\n",
      "\n",
      "relevance: 17.20%, specificity: 5.85%\n",
      "ok: 48.83%, toxic: 3.78%, risks: 27.96%, severe_toxic: 97.52%\n",
      "\n"
     ]
    },
    {
     "name": "stderr",
     "output_type": "stream",
     "text": [
      " 95%|█████████▌| 950/1000 [03:38<00:11,  4.18it/s]"
     ]
    },
    {
     "name": "stdout",
     "output_type": "stream",
     "text": [
      "- ?????????\n",
      "- Кого ты там обрезал\n",
      "- ну я евнух теперь получается\n",
      "- И да, экспорти их в jpg\n",
      "\n",
      "relevance: 18.09%, specificity: 21.22%\n",
      "ok: 14.28%, toxic: 21.62%, risks: 31.84%, severe_toxic: 94.21%\n",
      "\n"
     ]
    },
    {
     "name": "stderr",
     "output_type": "stream",
     "text": [
      " 98%|█████████▊| 975/1000 [03:45<00:06,  4.10it/s]"
     ]
    },
    {
     "name": "stdout",
     "output_type": "stream",
     "text": [
      "- Катя, Юля, Я, Ты\n",
      "- Нормас\n",
      "- Лера сказала что не смотрит такое((\n",
      "- Кидай скам ссылку\n",
      "\n",
      "relevance: 28.10%, specificity: 24.67%\n",
      "ok: 6.28%, toxic: 10.22%, risks: 53.52%, severe_toxic: 97.24%\n",
      "\n"
     ]
    },
    {
     "name": "stderr",
     "output_type": "stream",
     "text": [
      "100%|██████████| 1000/1000 [03:51<00:00,  4.32it/s]"
     ]
    },
    {
     "name": "stdout",
     "output_type": "stream",
     "text": [
      "Average toxicity: ok: 94.10%, toxic: 0.30%, risks: 1.20%, severe_toxic: 4.40%\n"
     ]
    },
    {
     "name": "stderr",
     "output_type": "stream",
     "text": [
      "\n"
     ]
    }
   ],
   "source": [
    "aver_toxicity = [0, 0, 0, 0]\n",
    "\n",
    "for i in trange(1000):\n",
    "    chunk = get_normal_chunk(data)\n",
    "    # relevance, specificity = get_relevance_specificity(chunk)\n",
    "    toxicity = get_toxicity(chunk)\n",
    "    relevance, specificity = get_relevance_specificity(chunk)\n",
    "    # aver_toxicity = [x + y for x, y in zip(aver_toxicity, toxicity)]\n",
    "    # aver_toxicity = [x + 1 for x, y in zip(aver_toxicity, toxicity) if y == max(toxicity)]\n",
    "    for i in range(4):\n",
    "        if toxicity[i] == max(toxicity):\n",
    "            if i == 3:\n",
    "                cool_format(chunk, relevance, specificity, toxicity)\n",
    "                print()\n",
    "            aver_toxicity[i] += 1\n",
    "\n",
    "aver_toxicity = [x / 1000 for x in aver_toxicity]\n",
    "\n",
    "print(f\"Average toxicity: ok: {aver_toxicity[0]*100:.2f}%, toxic: {aver_toxicity[1]*100:.2f}%, risks: {aver_toxicity[2]*100:.2f}%, severe_toxic: {aver_toxicity[3]*100:.2f}%\")"
   ]
  },
  {
   "cell_type": "code",
   "execution_count": 119,
   "metadata": {},
   "outputs": [
    {
     "data": {
      "text/plain": [
       "100.0"
      ]
     },
     "execution_count": 119,
     "metadata": {},
     "output_type": "execute_result"
    }
   ],
   "source": [
    "sum(aver_toxicity) * 100"
   ]
  },
  {
   "cell_type": "code",
   "execution_count": 123,
   "metadata": {},
   "outputs": [
    {
     "data": {
      "text/plain": [
       "[0.941, 0.003, 0.012, 0.044]"
      ]
     },
     "execution_count": 123,
     "metadata": {},
     "output_type": "execute_result"
    }
   ],
   "source": [
    "aver_toxicity"
   ]
  },
  {
   "attachments": {},
   "cell_type": "markdown",
   "metadata": {},
   "source": [
    "# Split into chunks"
   ]
  },
  {
   "cell_type": "code",
   "execution_count": 1,
   "metadata": {},
   "outputs": [],
   "source": [
    "from telegram_models import TelegramExport\n",
    "\n",
    "chats = TelegramExport.parse_file('result.json').chats"
   ]
  },
  {
   "cell_type": "code",
   "execution_count": null,
   "metadata": {},
   "outputs": [],
   "source": [
    "from telegram_models import Message\n",
    "from pydantic import BaseModel\n",
    "from typing import List\n",
    "\n",
    "class MessagesChunk(BaseModel):\n",
    "    context: List[Message]\n",
    "    summary: str\n",
    "    response: Message\n",
    "    relevance: float\n",
    "    specificity: float\n",
    "    toxicity: float\n",
    "\n",
    "class DialogueChunk(BaseModel):\n",
    "    messages: List[Message]"
   ]
  },
  {
   "cell_type": "code",
   "execution_count": 2,
   "metadata": {},
   "outputs": [],
   "source": [
    "timings_list = []  # list of pairs: (message time, next message time)\n",
    "my_name = 'Cyber Potato'\n",
    "\n",
    "for chat in chats:\n",
    "    for i in range(len(chat.messages) - 1):\n",
    "        if chat.messages[i].from_ == my_name and chat.messages[i + 1].from_ != my_name:\n",
    "            timings_list.append((chat.messages[i].date, chat.messages[i + 1].date))"
   ]
  },
  {
   "cell_type": "code",
   "execution_count": 3,
   "metadata": {},
   "outputs": [
    {
     "name": "stdout",
     "output_type": "stream",
     "text": [
      "     time    delta  count\n",
      "0       0        1    125\n",
      "1       0        2    229\n",
      "2       0        4    678\n",
      "3       0        8   1248\n",
      "4       0       16   1072\n",
      "..    ...      ...    ...\n",
      "498    23    65536     30\n",
      "499    23   131072     11\n",
      "500    23   262144      5\n",
      "501    23   524288      3\n",
      "502    23  1048576      5\n",
      "\n",
      "[503 rows x 3 columns]\n"
     ]
    }
   ],
   "source": [
    "# timings_list - array of pairs: (message time, next message time)\n",
    "# graph of the altair dependency graph of the interval between the initial message and the next message on the time of day\n",
    "\n",
    "import pandas as pd\n",
    "from math import log2\n",
    "\n",
    "timings = [\n",
    "    {\n",
    "        'time': t.hour,\n",
    "        'delta': 2 ** round(log2((t2 - t).total_seconds() + 1)),\n",
    "    }\n",
    "    for t, t2 in timings_list\n",
    "]\n",
    "\n",
    "# count appearance of each time and delta\n",
    "timings = pd.DataFrame(timings).groupby(['time', 'delta']).size().reset_index(name='count')\n",
    "\n",
    "print(timings)\n"
   ]
  },
  {
   "cell_type": "code",
   "execution_count": 4,
   "metadata": {},
   "outputs": [
    {
     "data": {
      "text/html": [
       "\n",
       "<style>\n",
       "  #altair-viz-e539cfc1ce33440597b30c490d4fc4a6.vega-embed {\n",
       "    width: 100%;\n",
       "    display: flex;\n",
       "  }\n",
       "\n",
       "  #altair-viz-e539cfc1ce33440597b30c490d4fc4a6.vega-embed details,\n",
       "  #altair-viz-e539cfc1ce33440597b30c490d4fc4a6.vega-embed details summary {\n",
       "    position: relative;\n",
       "  }\n",
       "</style>\n",
       "<div id=\"altair-viz-e539cfc1ce33440597b30c490d4fc4a6\"></div>\n",
       "<script type=\"text/javascript\">\n",
       "  var VEGA_DEBUG = (typeof VEGA_DEBUG == \"undefined\") ? {} : VEGA_DEBUG;\n",
       "  (function(spec, embedOpt){\n",
       "    let outputDiv = document.currentScript.previousElementSibling;\n",
       "    if (outputDiv.id !== \"altair-viz-e539cfc1ce33440597b30c490d4fc4a6\") {\n",
       "      outputDiv = document.getElementById(\"altair-viz-e539cfc1ce33440597b30c490d4fc4a6\");\n",
       "    }\n",
       "    const paths = {\n",
       "      \"vega\": \"https://cdn.jsdelivr.net/npm/vega@5?noext\",\n",
       "      \"vega-lib\": \"https://cdn.jsdelivr.net/npm/vega-lib?noext\",\n",
       "      \"vega-lite\": \"https://cdn.jsdelivr.net/npm/vega-lite@5.7.1?noext\",\n",
       "      \"vega-embed\": \"https://cdn.jsdelivr.net/npm/vega-embed@6?noext\",\n",
       "    };\n",
       "\n",
       "    function maybeLoadScript(lib, version) {\n",
       "      var key = `${lib.replace(\"-\", \"\")}_version`;\n",
       "      return (VEGA_DEBUG[key] == version) ?\n",
       "        Promise.resolve(paths[lib]) :\n",
       "        new Promise(function(resolve, reject) {\n",
       "          var s = document.createElement('script');\n",
       "          document.getElementsByTagName(\"head\")[0].appendChild(s);\n",
       "          s.async = true;\n",
       "          s.onload = () => {\n",
       "            VEGA_DEBUG[key] = version;\n",
       "            return resolve(paths[lib]);\n",
       "          };\n",
       "          s.onerror = () => reject(`Error loading script: ${paths[lib]}`);\n",
       "          s.src = paths[lib];\n",
       "        });\n",
       "    }\n",
       "\n",
       "    function showError(err) {\n",
       "      outputDiv.innerHTML = `<div class=\"error\" style=\"color:red;\">${err}</div>`;\n",
       "      throw err;\n",
       "    }\n",
       "\n",
       "    function displayChart(vegaEmbed) {\n",
       "      vegaEmbed(outputDiv, spec, embedOpt)\n",
       "        .catch(err => showError(`Javascript Error: ${err.message}<br>This usually means there's a typo in your chart specification. See the javascript console for the full traceback.`));\n",
       "    }\n",
       "\n",
       "    if(typeof define === \"function\" && define.amd) {\n",
       "      requirejs.config({paths});\n",
       "      require([\"vega-embed\"], displayChart, err => showError(`Error loading script: ${err.message}`));\n",
       "    } else {\n",
       "      maybeLoadScript(\"vega\", \"5\")\n",
       "        .then(() => maybeLoadScript(\"vega-lite\", \"5.7.1\"))\n",
       "        .then(() => maybeLoadScript(\"vega-embed\", \"6\"))\n",
       "        .catch(showError)\n",
       "        .then(() => displayChart(vegaEmbed));\n",
       "    }\n",
       "  })({\"config\": {\"view\": {\"continuousWidth\": 300, \"continuousHeight\": 300}}, \"data\": {\"name\": \"data-0a89f58bba3f93fe33fb666054d0dcdd\"}, \"mark\": {\"type\": \"rect\"}, \"encoding\": {\"color\": {\"field\": \"count\", \"scale\": {\"type\": \"log\"}, \"type\": \"quantitative\"}, \"x\": {\"field\": \"time\", \"type\": \"ordinal\"}, \"y\": {\"field\": \"delta\", \"scale\": {\"type\": \"log\"}, \"type\": \"ordinal\"}}, \"$schema\": \"https://vega.github.io/schema/vega-lite/v5.7.1.json\", \"datasets\": {\"data-0a89f58bba3f93fe33fb666054d0dcdd\": [{\"time\": 0, \"delta\": 1, \"count\": 125}, {\"time\": 0, \"delta\": 2, \"count\": 229}, {\"time\": 0, \"delta\": 4, \"count\": 678}, {\"time\": 0, \"delta\": 8, \"count\": 1248}, {\"time\": 0, \"delta\": 16, \"count\": 1072}, {\"time\": 0, \"delta\": 32, \"count\": 723}, {\"time\": 0, \"delta\": 64, \"count\": 369}, {\"time\": 0, \"delta\": 128, \"count\": 222}, {\"time\": 0, \"delta\": 256, \"count\": 160}, {\"time\": 0, \"delta\": 512, \"count\": 82}, {\"time\": 0, \"delta\": 1024, \"count\": 78}, {\"time\": 0, \"delta\": 2048, \"count\": 68}, {\"time\": 0, \"delta\": 4096, \"count\": 47}, {\"time\": 0, \"delta\": 8192, \"count\": 26}, {\"time\": 0, \"delta\": 16384, \"count\": 16}, {\"time\": 0, \"delta\": 32768, \"count\": 87}, {\"time\": 0, \"delta\": 65536, \"count\": 30}, {\"time\": 0, \"delta\": 131072, \"count\": 7}, {\"time\": 0, \"delta\": 262144, \"count\": 5}, {\"time\": 0, \"delta\": 1048576, \"count\": 2}, {\"time\": 0, \"delta\": 2097152, \"count\": 2}, {\"time\": 0, \"delta\": 4194304, \"count\": 2}, {\"time\": 1, \"delta\": 1, \"count\": 120}, {\"time\": 1, \"delta\": 2, \"count\": 161}, {\"time\": 1, \"delta\": 4, \"count\": 497}, {\"time\": 1, \"delta\": 8, \"count\": 966}, {\"time\": 1, \"delta\": 16, \"count\": 840}, {\"time\": 1, \"delta\": 32, \"count\": 573}, {\"time\": 1, \"delta\": 64, \"count\": 328}, {\"time\": 1, \"delta\": 128, \"count\": 194}, {\"time\": 1, \"delta\": 256, \"count\": 91}, {\"time\": 1, \"delta\": 512, \"count\": 64}, {\"time\": 1, \"delta\": 1024, \"count\": 33}, {\"time\": 1, \"delta\": 2048, \"count\": 46}, {\"time\": 1, \"delta\": 4096, \"count\": 33}, {\"time\": 1, \"delta\": 8192, \"count\": 20}, {\"time\": 1, \"delta\": 16384, \"count\": 27}, {\"time\": 1, \"delta\": 32768, \"count\": 57}, {\"time\": 1, \"delta\": 65536, \"count\": 10}, {\"time\": 1, \"delta\": 131072, \"count\": 3}, {\"time\": 1, \"delta\": 262144, \"count\": 1}, {\"time\": 1, \"delta\": 8388608, \"count\": 1}, {\"time\": 2, \"delta\": 1, \"count\": 75}, {\"time\": 2, \"delta\": 2, \"count\": 138}, {\"time\": 2, \"delta\": 4, \"count\": 405}, {\"time\": 2, \"delta\": 8, \"count\": 666}, {\"time\": 2, \"delta\": 16, \"count\": 554}, {\"time\": 2, \"delta\": 32, \"count\": 353}, {\"time\": 2, \"delta\": 64, \"count\": 180}, {\"time\": 2, \"delta\": 128, \"count\": 109}, {\"time\": 2, \"delta\": 256, \"count\": 53}, {\"time\": 2, \"delta\": 512, \"count\": 42}, {\"time\": 2, \"delta\": 1024, \"count\": 34}, {\"time\": 2, \"delta\": 2048, \"count\": 34}, {\"time\": 2, \"delta\": 4096, \"count\": 24}, {\"time\": 2, \"delta\": 8192, \"count\": 12}, {\"time\": 2, \"delta\": 16384, \"count\": 33}, {\"time\": 2, \"delta\": 32768, \"count\": 41}, {\"time\": 2, \"delta\": 65536, \"count\": 9}, {\"time\": 2, \"delta\": 131072, \"count\": 1}, {\"time\": 2, \"delta\": 524288, \"count\": 1}, {\"time\": 2, \"delta\": 4194304, \"count\": 1}, {\"time\": 3, \"delta\": 1, \"count\": 67}, {\"time\": 3, \"delta\": 2, \"count\": 118}, {\"time\": 3, \"delta\": 4, \"count\": 279}, {\"time\": 3, \"delta\": 8, \"count\": 532}, {\"time\": 3, \"delta\": 16, \"count\": 384}, {\"time\": 3, \"delta\": 32, \"count\": 215}, {\"time\": 3, \"delta\": 64, \"count\": 118}, {\"time\": 3, \"delta\": 128, \"count\": 56}, {\"time\": 3, \"delta\": 256, \"count\": 26}, {\"time\": 3, \"delta\": 512, \"count\": 31}, {\"time\": 3, \"delta\": 1024, \"count\": 19}, {\"time\": 3, \"delta\": 2048, \"count\": 16}, {\"time\": 3, \"delta\": 4096, \"count\": 10}, {\"time\": 3, \"delta\": 8192, \"count\": 11}, {\"time\": 3, \"delta\": 16384, \"count\": 33}, {\"time\": 3, \"delta\": 32768, \"count\": 28}, {\"time\": 3, \"delta\": 65536, \"count\": 3}, {\"time\": 3, \"delta\": 131072, \"count\": 1}, {\"time\": 3, \"delta\": 4194304, \"count\": 1}, {\"time\": 4, \"delta\": 1, \"count\": 33}, {\"time\": 4, \"delta\": 2, \"count\": 60}, {\"time\": 4, \"delta\": 4, \"count\": 165}, {\"time\": 4, \"delta\": 8, \"count\": 255}, {\"time\": 4, \"delta\": 16, \"count\": 220}, {\"time\": 4, \"delta\": 32, \"count\": 144}, {\"time\": 4, \"delta\": 64, \"count\": 68}, {\"time\": 4, \"delta\": 128, \"count\": 35}, {\"time\": 4, \"delta\": 256, \"count\": 23}, {\"time\": 4, \"delta\": 512, \"count\": 12}, {\"time\": 4, \"delta\": 1024, \"count\": 14}, {\"time\": 4, \"delta\": 2048, \"count\": 3}, {\"time\": 4, \"delta\": 4096, \"count\": 5}, {\"time\": 4, \"delta\": 8192, \"count\": 5}, {\"time\": 4, \"delta\": 16384, \"count\": 32}, {\"time\": 4, \"delta\": 32768, \"count\": 24}, {\"time\": 4, \"delta\": 65536, \"count\": 1}, {\"time\": 4, \"delta\": 131072, \"count\": 1}, {\"time\": 5, \"delta\": 1, \"count\": 5}, {\"time\": 5, \"delta\": 2, \"count\": 15}, {\"time\": 5, \"delta\": 4, \"count\": 40}, {\"time\": 5, \"delta\": 8, \"count\": 67}, {\"time\": 5, \"delta\": 16, \"count\": 64}, {\"time\": 5, \"delta\": 32, \"count\": 39}, {\"time\": 5, \"delta\": 64, \"count\": 26}, {\"time\": 5, \"delta\": 128, \"count\": 9}, {\"time\": 5, \"delta\": 256, \"count\": 7}, {\"time\": 5, \"delta\": 512, \"count\": 8}, {\"time\": 5, \"delta\": 1024, \"count\": 5}, {\"time\": 5, \"delta\": 2048, \"count\": 4}, {\"time\": 5, \"delta\": 4096, \"count\": 2}, {\"time\": 5, \"delta\": 8192, \"count\": 12}, {\"time\": 5, \"delta\": 16384, \"count\": 29}, {\"time\": 5, \"delta\": 32768, \"count\": 4}, {\"time\": 6, \"delta\": 1, \"count\": 2}, {\"time\": 6, \"delta\": 2, \"count\": 5}, {\"time\": 6, \"delta\": 4, \"count\": 16}, {\"time\": 6, \"delta\": 8, \"count\": 28}, {\"time\": 6, \"delta\": 16, \"count\": 33}, {\"time\": 6, \"delta\": 32, \"count\": 24}, {\"time\": 6, \"delta\": 64, \"count\": 8}, {\"time\": 6, \"delta\": 128, \"count\": 6}, {\"time\": 6, \"delta\": 256, \"count\": 7}, {\"time\": 6, \"delta\": 512, \"count\": 3}, {\"time\": 6, \"delta\": 1024, \"count\": 4}, {\"time\": 6, \"delta\": 2048, \"count\": 3}, {\"time\": 6, \"delta\": 4096, \"count\": 5}, {\"time\": 6, \"delta\": 8192, \"count\": 9}, {\"time\": 6, \"delta\": 16384, \"count\": 7}, {\"time\": 6, \"delta\": 32768, \"count\": 2}, {\"time\": 6, \"delta\": 65536, \"count\": 1}, {\"time\": 7, \"delta\": 1, \"count\": 1}, {\"time\": 7, \"delta\": 2, \"count\": 3}, {\"time\": 7, \"delta\": 4, \"count\": 13}, {\"time\": 7, \"delta\": 8, \"count\": 19}, {\"time\": 7, \"delta\": 16, \"count\": 21}, {\"time\": 7, \"delta\": 32, \"count\": 21}, {\"time\": 7, \"delta\": 64, \"count\": 21}, {\"time\": 7, \"delta\": 128, \"count\": 5}, {\"time\": 7, \"delta\": 256, \"count\": 5}, {\"time\": 7, \"delta\": 512, \"count\": 6}, {\"time\": 7, \"delta\": 1024, \"count\": 8}, {\"time\": 7, \"delta\": 2048, \"count\": 8}, {\"time\": 7, \"delta\": 4096, \"count\": 5}, {\"time\": 7, \"delta\": 8192, \"count\": 5}, {\"time\": 7, \"delta\": 16384, \"count\": 6}, {\"time\": 7, \"delta\": 32768, \"count\": 5}, {\"time\": 7, \"delta\": 262144, \"count\": 1}, {\"time\": 8, \"delta\": 1, \"count\": 15}, {\"time\": 8, \"delta\": 2, \"count\": 24}, {\"time\": 8, \"delta\": 4, \"count\": 107}, {\"time\": 8, \"delta\": 8, \"count\": 195}, {\"time\": 8, \"delta\": 16, \"count\": 125}, {\"time\": 8, \"delta\": 32, \"count\": 89}, {\"time\": 8, \"delta\": 64, \"count\": 50}, {\"time\": 8, \"delta\": 128, \"count\": 31}, {\"time\": 8, \"delta\": 256, \"count\": 23}, {\"time\": 8, \"delta\": 512, \"count\": 23}, {\"time\": 8, \"delta\": 1024, \"count\": 27}, {\"time\": 8, \"delta\": 2048, \"count\": 23}, {\"time\": 8, \"delta\": 4096, \"count\": 10}, {\"time\": 8, \"delta\": 8192, \"count\": 11}, {\"time\": 8, \"delta\": 16384, \"count\": 13}, {\"time\": 8, \"delta\": 32768, \"count\": 5}, {\"time\": 8, \"delta\": 65536, \"count\": 1}, {\"time\": 8, \"delta\": 131072, \"count\": 1}, {\"time\": 8, \"delta\": 1048576, \"count\": 1}, {\"time\": 8, \"delta\": 8388608, \"count\": 1}, {\"time\": 9, \"delta\": 1, \"count\": 24}, {\"time\": 9, \"delta\": 2, \"count\": 48}, {\"time\": 9, \"delta\": 4, \"count\": 137}, {\"time\": 9, \"delta\": 8, \"count\": 256}, {\"time\": 9, \"delta\": 16, \"count\": 185}, {\"time\": 9, \"delta\": 32, \"count\": 148}, {\"time\": 9, \"delta\": 64, \"count\": 93}, {\"time\": 9, \"delta\": 128, \"count\": 50}, {\"time\": 9, \"delta\": 256, \"count\": 37}, {\"time\": 9, \"delta\": 512, \"count\": 33}, {\"time\": 9, \"delta\": 1024, \"count\": 25}, {\"time\": 9, \"delta\": 2048, \"count\": 10}, {\"time\": 9, \"delta\": 4096, \"count\": 24}, {\"time\": 9, \"delta\": 8192, \"count\": 20}, {\"time\": 9, \"delta\": 16384, \"count\": 17}, {\"time\": 9, \"delta\": 32768, \"count\": 10}, {\"time\": 9, \"delta\": 131072, \"count\": 1}, {\"time\": 9, \"delta\": 262144, \"count\": 1}, {\"time\": 9, \"delta\": 524288, \"count\": 1}, {\"time\": 9, \"delta\": 2097152, \"count\": 1}, {\"time\": 10, \"delta\": 1, \"count\": 22}, {\"time\": 10, \"delta\": 2, \"count\": 35}, {\"time\": 10, \"delta\": 4, \"count\": 122}, {\"time\": 10, \"delta\": 8, \"count\": 202}, {\"time\": 10, \"delta\": 16, \"count\": 243}, {\"time\": 10, \"delta\": 32, \"count\": 163}, {\"time\": 10, \"delta\": 64, \"count\": 105}, {\"time\": 10, \"delta\": 128, \"count\": 69}, {\"time\": 10, \"delta\": 256, \"count\": 53}, {\"time\": 10, \"delta\": 512, \"count\": 40}, {\"time\": 10, \"delta\": 1024, \"count\": 37}, {\"time\": 10, \"delta\": 2048, \"count\": 36}, {\"time\": 10, \"delta\": 4096, \"count\": 33}, {\"time\": 10, \"delta\": 8192, \"count\": 25}, {\"time\": 10, \"delta\": 16384, \"count\": 20}, {\"time\": 10, \"delta\": 32768, \"count\": 10}, {\"time\": 10, \"delta\": 65536, \"count\": 2}, {\"time\": 10, \"delta\": 131072, \"count\": 4}, {\"time\": 10, \"delta\": 262144, \"count\": 5}, {\"time\": 10, \"delta\": 524288, \"count\": 1}, {\"time\": 10, \"delta\": 2097152, \"count\": 1}, {\"time\": 10, \"delta\": 8388608, \"count\": 1}, {\"time\": 10, \"delta\": 16777216, \"count\": 1}, {\"time\": 11, \"delta\": 1, \"count\": 37}, {\"time\": 11, \"delta\": 2, \"count\": 50}, {\"time\": 11, \"delta\": 4, \"count\": 169}, {\"time\": 11, \"delta\": 8, \"count\": 363}, {\"time\": 11, \"delta\": 16, \"count\": 333}, {\"time\": 11, \"delta\": 32, \"count\": 267}, {\"time\": 11, \"delta\": 64, \"count\": 142}, {\"time\": 11, \"delta\": 128, \"count\": 97}, {\"time\": 11, \"delta\": 256, \"count\": 72}, {\"time\": 11, \"delta\": 512, \"count\": 96}, {\"time\": 11, \"delta\": 1024, \"count\": 50}, {\"time\": 11, \"delta\": 2048, \"count\": 53}, {\"time\": 11, \"delta\": 4096, \"count\": 43}, {\"time\": 11, \"delta\": 8192, \"count\": 40}, {\"time\": 11, \"delta\": 16384, \"count\": 26}, {\"time\": 11, \"delta\": 32768, \"count\": 17}, {\"time\": 11, \"delta\": 65536, \"count\": 6}, {\"time\": 11, \"delta\": 131072, \"count\": 5}, {\"time\": 11, \"delta\": 262144, \"count\": 2}, {\"time\": 11, \"delta\": 524288, \"count\": 2}, {\"time\": 11, \"delta\": 1048576, \"count\": 1}, {\"time\": 12, \"delta\": 1, \"count\": 55}, {\"time\": 12, \"delta\": 2, \"count\": 66}, {\"time\": 12, \"delta\": 4, \"count\": 283}, {\"time\": 12, \"delta\": 8, \"count\": 544}, {\"time\": 12, \"delta\": 16, \"count\": 504}, {\"time\": 12, \"delta\": 32, \"count\": 382}, {\"time\": 12, \"delta\": 64, \"count\": 229}, {\"time\": 12, \"delta\": 128, \"count\": 144}, {\"time\": 12, \"delta\": 256, \"count\": 84}, {\"time\": 12, \"delta\": 512, \"count\": 85}, {\"time\": 12, \"delta\": 1024, \"count\": 81}, {\"time\": 12, \"delta\": 2048, \"count\": 63}, {\"time\": 12, \"delta\": 4096, \"count\": 64}, {\"time\": 12, \"delta\": 8192, \"count\": 48}, {\"time\": 12, \"delta\": 16384, \"count\": 37}, {\"time\": 12, \"delta\": 32768, \"count\": 22}, {\"time\": 12, \"delta\": 65536, \"count\": 3}, {\"time\": 12, \"delta\": 131072, \"count\": 8}, {\"time\": 12, \"delta\": 262144, \"count\": 2}, {\"time\": 12, \"delta\": 524288, \"count\": 1}, {\"time\": 12, \"delta\": 1048576, \"count\": 1}, {\"time\": 12, \"delta\": 2097152, \"count\": 1}, {\"time\": 12, \"delta\": 4194304, \"count\": 3}, {\"time\": 12, \"delta\": 16777216, \"count\": 1}, {\"time\": 13, \"delta\": 1, \"count\": 60}, {\"time\": 13, \"delta\": 2, \"count\": 98}, {\"time\": 13, \"delta\": 4, \"count\": 285}, {\"time\": 13, \"delta\": 8, \"count\": 557}, {\"time\": 13, \"delta\": 16, \"count\": 497}, {\"time\": 13, \"delta\": 32, \"count\": 385}, {\"time\": 13, \"delta\": 64, \"count\": 233}, {\"time\": 13, \"delta\": 128, \"count\": 130}, {\"time\": 13, \"delta\": 256, \"count\": 116}, {\"time\": 13, \"delta\": 512, \"count\": 74}, {\"time\": 13, \"delta\": 1024, \"count\": 78}, {\"time\": 13, \"delta\": 2048, \"count\": 68}, {\"time\": 13, \"delta\": 4096, \"count\": 54}, {\"time\": 13, \"delta\": 8192, \"count\": 49}, {\"time\": 13, \"delta\": 16384, \"count\": 41}, {\"time\": 13, \"delta\": 32768, \"count\": 13}, {\"time\": 13, \"delta\": 65536, \"count\": 5}, {\"time\": 13, \"delta\": 131072, \"count\": 4}, {\"time\": 13, \"delta\": 262144, \"count\": 1}, {\"time\": 13, \"delta\": 524288, \"count\": 3}, {\"time\": 13, \"delta\": 1048576, \"count\": 3}, {\"time\": 13, \"delta\": 4194304, \"count\": 1}, {\"time\": 14, \"delta\": 1, \"count\": 54}, {\"time\": 14, \"delta\": 2, \"count\": 84}, {\"time\": 14, \"delta\": 4, \"count\": 311}, {\"time\": 14, \"delta\": 8, \"count\": 590}, {\"time\": 14, \"delta\": 16, \"count\": 497}, {\"time\": 14, \"delta\": 32, \"count\": 403}, {\"time\": 14, \"delta\": 64, \"count\": 259}, {\"time\": 14, \"delta\": 128, \"count\": 155}, {\"time\": 14, \"delta\": 256, \"count\": 128}, {\"time\": 14, \"delta\": 512, \"count\": 69}, {\"time\": 14, \"delta\": 1024, \"count\": 78}, {\"time\": 14, \"delta\": 2048, \"count\": 60}, {\"time\": 14, \"delta\": 4096, \"count\": 59}, {\"time\": 14, \"delta\": 8192, \"count\": 38}, {\"time\": 14, \"delta\": 16384, \"count\": 30}, {\"time\": 14, \"delta\": 32768, \"count\": 12}, {\"time\": 14, \"delta\": 65536, \"count\": 6}, {\"time\": 14, \"delta\": 131072, \"count\": 8}, {\"time\": 14, \"delta\": 262144, \"count\": 3}, {\"time\": 14, \"delta\": 524288, \"count\": 3}, {\"time\": 14, \"delta\": 1048576, \"count\": 2}, {\"time\": 14, \"delta\": 4194304, \"count\": 1}, {\"time\": 15, \"delta\": 1, \"count\": 49}, {\"time\": 15, \"delta\": 2, \"count\": 106}, {\"time\": 15, \"delta\": 4, \"count\": 300}, {\"time\": 15, \"delta\": 8, \"count\": 527}, {\"time\": 15, \"delta\": 16, \"count\": 442}, {\"time\": 15, \"delta\": 32, \"count\": 377}, {\"time\": 15, \"delta\": 64, \"count\": 222}, {\"time\": 15, \"delta\": 128, \"count\": 155}, {\"time\": 15, \"delta\": 256, \"count\": 100}, {\"time\": 15, \"delta\": 512, \"count\": 80}, {\"time\": 15, \"delta\": 1024, \"count\": 65}, {\"time\": 15, \"delta\": 2048, \"count\": 66}, {\"time\": 15, \"delta\": 4096, \"count\": 44}, {\"time\": 15, \"delta\": 8192, \"count\": 36}, {\"time\": 15, \"delta\": 16384, \"count\": 40}, {\"time\": 15, \"delta\": 32768, \"count\": 8}, {\"time\": 15, \"delta\": 65536, \"count\": 7}, {\"time\": 15, \"delta\": 131072, \"count\": 9}, {\"time\": 15, \"delta\": 262144, \"count\": 4}, {\"time\": 15, \"delta\": 524288, \"count\": 3}, {\"time\": 15, \"delta\": 2097152, \"count\": 1}, {\"time\": 15, \"delta\": 4194304, \"count\": 3}, {\"time\": 16, \"delta\": 1, \"count\": 60}, {\"time\": 16, \"delta\": 2, \"count\": 96}, {\"time\": 16, \"delta\": 4, \"count\": 285}, {\"time\": 16, \"delta\": 8, \"count\": 503}, {\"time\": 16, \"delta\": 16, \"count\": 426}, {\"time\": 16, \"delta\": 32, \"count\": 376}, {\"time\": 16, \"delta\": 64, \"count\": 219}, {\"time\": 16, \"delta\": 128, \"count\": 157}, {\"time\": 16, \"delta\": 256, \"count\": 110}, {\"time\": 16, \"delta\": 512, \"count\": 89}, {\"time\": 16, \"delta\": 1024, \"count\": 83}, {\"time\": 16, \"delta\": 2048, \"count\": 74}, {\"time\": 16, \"delta\": 4096, \"count\": 61}, {\"time\": 16, \"delta\": 8192, \"count\": 34}, {\"time\": 16, \"delta\": 16384, \"count\": 44}, {\"time\": 16, \"delta\": 32768, \"count\": 8}, {\"time\": 16, \"delta\": 65536, \"count\": 6}, {\"time\": 16, \"delta\": 131072, \"count\": 7}, {\"time\": 16, \"delta\": 262144, \"count\": 7}, {\"time\": 16, \"delta\": 524288, \"count\": 5}, {\"time\": 16, \"delta\": 1048576, \"count\": 1}, {\"time\": 16, \"delta\": 4194304, \"count\": 1}, {\"time\": 17, \"delta\": 1, \"count\": 67}, {\"time\": 17, \"delta\": 2, \"count\": 95}, {\"time\": 17, \"delta\": 4, \"count\": 304}, {\"time\": 17, \"delta\": 8, \"count\": 550}, {\"time\": 17, \"delta\": 16, \"count\": 542}, {\"time\": 17, \"delta\": 32, \"count\": 396}, {\"time\": 17, \"delta\": 64, \"count\": 233}, {\"time\": 17, \"delta\": 128, \"count\": 162}, {\"time\": 17, \"delta\": 256, \"count\": 137}, {\"time\": 17, \"delta\": 512, \"count\": 99}, {\"time\": 17, \"delta\": 1024, \"count\": 88}, {\"time\": 17, \"delta\": 2048, \"count\": 50}, {\"time\": 17, \"delta\": 4096, \"count\": 73}, {\"time\": 17, \"delta\": 8192, \"count\": 48}, {\"time\": 17, \"delta\": 16384, \"count\": 38}, {\"time\": 17, \"delta\": 32768, \"count\": 7}, {\"time\": 17, \"delta\": 65536, \"count\": 18}, {\"time\": 17, \"delta\": 131072, \"count\": 3}, {\"time\": 17, \"delta\": 262144, \"count\": 9}, {\"time\": 17, \"delta\": 524288, \"count\": 3}, {\"time\": 17, \"delta\": 2097152, \"count\": 1}, {\"time\": 17, \"delta\": 4194304, \"count\": 2}, {\"time\": 17, \"delta\": 8388608, \"count\": 1}, {\"time\": 18, \"delta\": 1, \"count\": 64}, {\"time\": 18, \"delta\": 2, \"count\": 103}, {\"time\": 18, \"delta\": 4, \"count\": 348}, {\"time\": 18, \"delta\": 8, \"count\": 651}, {\"time\": 18, \"delta\": 16, \"count\": 558}, {\"time\": 18, \"delta\": 32, \"count\": 421}, {\"time\": 18, \"delta\": 64, \"count\": 268}, {\"time\": 18, \"delta\": 128, \"count\": 180}, {\"time\": 18, \"delta\": 256, \"count\": 111}, {\"time\": 18, \"delta\": 512, \"count\": 97}, {\"time\": 18, \"delta\": 1024, \"count\": 107}, {\"time\": 18, \"delta\": 2048, \"count\": 85}, {\"time\": 18, \"delta\": 4096, \"count\": 54}, {\"time\": 18, \"delta\": 8192, \"count\": 64}, {\"time\": 18, \"delta\": 16384, \"count\": 39}, {\"time\": 18, \"delta\": 32768, \"count\": 1}, {\"time\": 18, \"delta\": 65536, \"count\": 17}, {\"time\": 18, \"delta\": 131072, \"count\": 8}, {\"time\": 18, \"delta\": 262144, \"count\": 3}, {\"time\": 18, \"delta\": 524288, \"count\": 2}, {\"time\": 18, \"delta\": 1048576, \"count\": 1}, {\"time\": 18, \"delta\": 2097152, \"count\": 4}, {\"time\": 19, \"delta\": 1, \"count\": 72}, {\"time\": 19, \"delta\": 2, \"count\": 114}, {\"time\": 19, \"delta\": 4, \"count\": 362}, {\"time\": 19, \"delta\": 8, \"count\": 714}, {\"time\": 19, \"delta\": 16, \"count\": 531}, {\"time\": 19, \"delta\": 32, \"count\": 443}, {\"time\": 19, \"delta\": 64, \"count\": 292}, {\"time\": 19, \"delta\": 128, \"count\": 173}, {\"time\": 19, \"delta\": 256, \"count\": 139}, {\"time\": 19, \"delta\": 512, \"count\": 106}, {\"time\": 19, \"delta\": 1024, \"count\": 88}, {\"time\": 19, \"delta\": 2048, \"count\": 81}, {\"time\": 19, \"delta\": 4096, \"count\": 62}, {\"time\": 19, \"delta\": 8192, \"count\": 59}, {\"time\": 19, \"delta\": 16384, \"count\": 24}, {\"time\": 19, \"delta\": 32768, \"count\": 3}, {\"time\": 19, \"delta\": 65536, \"count\": 20}, {\"time\": 19, \"delta\": 131072, \"count\": 7}, {\"time\": 19, \"delta\": 262144, \"count\": 7}, {\"time\": 19, \"delta\": 524288, \"count\": 3}, {\"time\": 19, \"delta\": 1048576, \"count\": 3}, {\"time\": 19, \"delta\": 4194304, \"count\": 1}, {\"time\": 20, \"delta\": 1, \"count\": 84}, {\"time\": 20, \"delta\": 2, \"count\": 139}, {\"time\": 20, \"delta\": 4, \"count\": 464}, {\"time\": 20, \"delta\": 8, \"count\": 870}, {\"time\": 20, \"delta\": 16, \"count\": 758}, {\"time\": 20, \"delta\": 32, \"count\": 582}, {\"time\": 20, \"delta\": 64, \"count\": 360}, {\"time\": 20, \"delta\": 128, \"count\": 219}, {\"time\": 20, \"delta\": 256, \"count\": 128}, {\"time\": 20, \"delta\": 512, \"count\": 110}, {\"time\": 20, \"delta\": 1024, \"count\": 108}, {\"time\": 20, \"delta\": 2048, \"count\": 86}, {\"time\": 20, \"delta\": 4096, \"count\": 80}, {\"time\": 20, \"delta\": 8192, \"count\": 55}, {\"time\": 20, \"delta\": 16384, \"count\": 15}, {\"time\": 20, \"delta\": 32768, \"count\": 7}, {\"time\": 20, \"delta\": 65536, \"count\": 31}, {\"time\": 20, \"delta\": 131072, \"count\": 9}, {\"time\": 20, \"delta\": 262144, \"count\": 5}, {\"time\": 20, \"delta\": 524288, \"count\": 5}, {\"time\": 20, \"delta\": 1048576, \"count\": 5}, {\"time\": 20, \"delta\": 2097152, \"count\": 2}, {\"time\": 20, \"delta\": 4194304, \"count\": 1}, {\"time\": 21, \"delta\": 1, \"count\": 113}, {\"time\": 21, \"delta\": 2, \"count\": 235}, {\"time\": 21, \"delta\": 4, \"count\": 653}, {\"time\": 21, \"delta\": 8, \"count\": 1160}, {\"time\": 21, \"delta\": 16, \"count\": 935}, {\"time\": 21, \"delta\": 32, \"count\": 689}, {\"time\": 21, \"delta\": 64, \"count\": 371}, {\"time\": 21, \"delta\": 128, \"count\": 244}, {\"time\": 21, \"delta\": 256, \"count\": 167}, {\"time\": 21, \"delta\": 512, \"count\": 147}, {\"time\": 21, \"delta\": 1024, \"count\": 120}, {\"time\": 21, \"delta\": 2048, \"count\": 93}, {\"time\": 21, \"delta\": 4096, \"count\": 69}, {\"time\": 21, \"delta\": 8192, \"count\": 38}, {\"time\": 21, \"delta\": 16384, \"count\": 16}, {\"time\": 21, \"delta\": 32768, \"count\": 15}, {\"time\": 21, \"delta\": 65536, \"count\": 28}, {\"time\": 21, \"delta\": 131072, \"count\": 6}, {\"time\": 21, \"delta\": 262144, \"count\": 5}, {\"time\": 21, \"delta\": 524288, \"count\": 3}, {\"time\": 21, \"delta\": 1048576, \"count\": 5}, {\"time\": 21, \"delta\": 2097152, \"count\": 1}, {\"time\": 21, \"delta\": 4194304, \"count\": 2}, {\"time\": 21, \"delta\": 8388608, \"count\": 2}, {\"time\": 21, \"delta\": 16777216, \"count\": 1}, {\"time\": 22, \"delta\": 1, \"count\": 116}, {\"time\": 22, \"delta\": 2, \"count\": 250}, {\"time\": 22, \"delta\": 4, \"count\": 718}, {\"time\": 22, \"delta\": 8, \"count\": 1285}, {\"time\": 22, \"delta\": 16, \"count\": 1096}, {\"time\": 22, \"delta\": 32, \"count\": 888}, {\"time\": 22, \"delta\": 64, \"count\": 536}, {\"time\": 22, \"delta\": 128, \"count\": 323}, {\"time\": 22, \"delta\": 256, \"count\": 193}, {\"time\": 22, \"delta\": 512, \"count\": 136}, {\"time\": 22, \"delta\": 1024, \"count\": 98}, {\"time\": 22, \"delta\": 2048, \"count\": 78}, {\"time\": 22, \"delta\": 4096, \"count\": 72}, {\"time\": 22, \"delta\": 8192, \"count\": 32}, {\"time\": 22, \"delta\": 16384, \"count\": 9}, {\"time\": 22, \"delta\": 32768, \"count\": 43}, {\"time\": 22, \"delta\": 65536, \"count\": 27}, {\"time\": 22, \"delta\": 131072, \"count\": 14}, {\"time\": 22, \"delta\": 262144, \"count\": 4}, {\"time\": 22, \"delta\": 524288, \"count\": 2}, {\"time\": 22, \"delta\": 8388608, \"count\": 1}, {\"time\": 22, \"delta\": 16777216, \"count\": 1}, {\"time\": 23, \"delta\": 1, \"count\": 132}, {\"time\": 23, \"delta\": 2, \"count\": 226}, {\"time\": 23, \"delta\": 4, \"count\": 603}, {\"time\": 23, \"delta\": 8, \"count\": 1154}, {\"time\": 23, \"delta\": 16, \"count\": 1066}, {\"time\": 23, \"delta\": 32, \"count\": 812}, {\"time\": 23, \"delta\": 64, \"count\": 399}, {\"time\": 23, \"delta\": 128, \"count\": 250}, {\"time\": 23, \"delta\": 256, \"count\": 152}, {\"time\": 23, \"delta\": 512, \"count\": 103}, {\"time\": 23, \"delta\": 1024, \"count\": 95}, {\"time\": 23, \"delta\": 2048, \"count\": 78}, {\"time\": 23, \"delta\": 4096, \"count\": 38}, {\"time\": 23, \"delta\": 8192, \"count\": 29}, {\"time\": 23, \"delta\": 16384, \"count\": 8}, {\"time\": 23, \"delta\": 32768, \"count\": 57}, {\"time\": 23, \"delta\": 65536, \"count\": 30}, {\"time\": 23, \"delta\": 131072, \"count\": 11}, {\"time\": 23, \"delta\": 262144, \"count\": 5}, {\"time\": 23, \"delta\": 524288, \"count\": 3}, {\"time\": 23, \"delta\": 1048576, \"count\": 5}]}}, {\"mode\": \"vega-lite\"});\n",
       "</script>"
      ],
      "text/plain": [
       "alt.Chart(...)"
      ]
     },
     "execution_count": 4,
     "metadata": {},
     "output_type": "execute_result"
    }
   ],
   "source": [
    "import altair as alt\n",
    "\n",
    "alt.Chart(timings).mark_rect().encode(\n",
    "    x='time:O',\n",
    "    y=alt.Y('delta:O', scale=alt.Scale(type='log')),\n",
    "    color=alt.Color('count:Q', scale=alt.Scale(type='log'))\n",
    ")"
   ]
  },
  {
   "cell_type": "code",
   "execution_count": 50,
   "metadata": {},
   "outputs": [
    {
     "data": {
      "text/html": [
       "<div>\n",
       "<style scoped>\n",
       "    .dataframe tbody tr th:only-of-type {\n",
       "        vertical-align: middle;\n",
       "    }\n",
       "\n",
       "    .dataframe tbody tr th {\n",
       "        vertical-align: top;\n",
       "    }\n",
       "\n",
       "    .dataframe thead th {\n",
       "        text-align: right;\n",
       "    }\n",
       "</style>\n",
       "<table border=\"1\" class=\"dataframe\">\n",
       "  <thead>\n",
       "    <tr style=\"text-align: right;\">\n",
       "      <th></th>\n",
       "      <th>time</th>\n",
       "      <th>date</th>\n",
       "      <th>day</th>\n",
       "      <th>text</th>\n",
       "      <th>from</th>\n",
       "    </tr>\n",
       "  </thead>\n",
       "  <tbody>\n",
       "    <tr>\n",
       "      <th>0</th>\n",
       "      <td>41286</td>\n",
       "      <td>2021-10-09</td>\n",
       "      <td>5</td>\n",
       "      <td>https://stackoverflow.com/questions/11334371/c...</td>\n",
       "      <td>Сергей Холодильник</td>\n",
       "    </tr>\n",
       "    <tr>\n",
       "      <th>1</th>\n",
       "      <td>41895</td>\n",
       "      <td>2021-10-09</td>\n",
       "      <td>5</td>\n",
       "      <td>https://drive.google.com/drive/folders/1Nb-14r...</td>\n",
       "      <td>Сергей Холодильник</td>\n",
       "    </tr>\n",
       "    <tr>\n",
       "      <th>2</th>\n",
       "      <td>45131</td>\n",
       "      <td>2021-10-09</td>\n",
       "      <td>5</td>\n",
       "      <td>https://stackoverflow.com/questions/238603/how...</td>\n",
       "      <td>Сергей Холодильник</td>\n",
       "    </tr>\n",
       "    <tr>\n",
       "      <th>3</th>\n",
       "      <td>54486</td>\n",
       "      <td>2021-10-09</td>\n",
       "      <td>5</td>\n",
       "      <td>int len = 0;\\n\\nchar *readstr()\\n{\\n  len = 0;...</td>\n",
       "      <td>Cyber Potato</td>\n",
       "    </tr>\n",
       "    <tr>\n",
       "      <th>4</th>\n",
       "      <td>71612</td>\n",
       "      <td>2021-10-09</td>\n",
       "      <td>5</td>\n",
       "      <td>Сохрани это как компромат</td>\n",
       "      <td>Cyber Potato</td>\n",
       "    </tr>\n",
       "    <tr>\n",
       "      <th>...</th>\n",
       "      <td>...</td>\n",
       "      <td>...</td>\n",
       "      <td>...</td>\n",
       "      <td>...</td>\n",
       "      <td>...</td>\n",
       "    </tr>\n",
       "    <tr>\n",
       "      <th>45927</th>\n",
       "      <td>2860</td>\n",
       "      <td>2022-12-05</td>\n",
       "      <td>0</td>\n",
       "      <td>что блять</td>\n",
       "      <td>Cyber Potato</td>\n",
       "    </tr>\n",
       "    <tr>\n",
       "      <th>45928</th>\n",
       "      <td>2862</td>\n",
       "      <td>2022-12-05</td>\n",
       "      <td>0</td>\n",
       "      <td>помянем</td>\n",
       "      <td>Cyber Potato</td>\n",
       "    </tr>\n",
       "    <tr>\n",
       "      <th>45929</th>\n",
       "      <td>2864</td>\n",
       "      <td>2022-12-05</td>\n",
       "      <td>0</td>\n",
       "      <td>Превью хорошее, реалистичное</td>\n",
       "      <td>Сергей Холодильник</td>\n",
       "    </tr>\n",
       "    <tr>\n",
       "      <th>45930</th>\n",
       "      <td>2930</td>\n",
       "      <td>2022-12-05</td>\n",
       "      <td>0</td>\n",
       "      <td>Прикол у меня есть русский и я сделала трениро...</td>\n",
       "      <td>Сергей Холодильник</td>\n",
       "    </tr>\n",
       "    <tr>\n",
       "      <th>45931</th>\n",
       "      <td>2965</td>\n",
       "      <td>2022-12-05</td>\n",
       "      <td>0</td>\n",
       "      <td>я так же экзы по физике писал\\nа когда пришел ...</td>\n",
       "      <td>Cyber Potato</td>\n",
       "    </tr>\n",
       "  </tbody>\n",
       "</table>\n",
       "<p>45932 rows × 5 columns</p>\n",
       "</div>"
      ],
      "text/plain": [
       "        time        date  day  \\\n",
       "0      41286  2021-10-09    5   \n",
       "1      41895  2021-10-09    5   \n",
       "2      45131  2021-10-09    5   \n",
       "3      54486  2021-10-09    5   \n",
       "4      71612  2021-10-09    5   \n",
       "...      ...         ...  ...   \n",
       "45927   2860  2022-12-05    0   \n",
       "45928   2862  2022-12-05    0   \n",
       "45929   2864  2022-12-05    0   \n",
       "45930   2930  2022-12-05    0   \n",
       "45931   2965  2022-12-05    0   \n",
       "\n",
       "                                                    text                from  \n",
       "0      https://stackoverflow.com/questions/11334371/c...  Сергей Холодильник  \n",
       "1      https://drive.google.com/drive/folders/1Nb-14r...  Сергей Холодильник  \n",
       "2      https://stackoverflow.com/questions/238603/how...  Сергей Холодильник  \n",
       "3      int len = 0;\\n\\nchar *readstr()\\n{\\n  len = 0;...        Cyber Potato  \n",
       "4                              Сохрани это как компромат        Cyber Potato  \n",
       "...                                                  ...                 ...  \n",
       "45927                                          что блять        Cyber Potato  \n",
       "45928                                            помянем        Cyber Potato  \n",
       "45929                       Превью хорошее, реалистичное  Сергей Холодильник  \n",
       "45930  Прикол у меня есть русский и я сделала трениро...  Сергей Холодильник  \n",
       "45931  я так же экзы по физике писал\\nа когда пришел ...        Cyber Potato  \n",
       "\n",
       "[45932 rows x 5 columns]"
      ]
     },
     "execution_count": 50,
     "metadata": {},
     "output_type": "execute_result"
    }
   ],
   "source": [
    "chat = next(chat for chat in chats if chat.name == 'Сергей')\n",
    "all_messages = pd.DataFrame([{\n",
    "    'time': m.date.hour * 3600 + m.date.minute * 60 + m.date.second,\n",
    "    'date': m.date.date(),\n",
    "    'day': m.date.weekday(),\n",
    "    'text': m.text,\n",
    "    'from': m.from_,\n",
    "} for m in chat.messages])\n",
    "\n",
    "all_messages"
   ]
  },
  {
   "cell_type": "code",
   "execution_count": 51,
   "metadata": {},
   "outputs": [
    {
     "data": {
      "text/html": [
       "<div>\n",
       "<style scoped>\n",
       "    .dataframe tbody tr th:only-of-type {\n",
       "        vertical-align: middle;\n",
       "    }\n",
       "\n",
       "    .dataframe tbody tr th {\n",
       "        vertical-align: top;\n",
       "    }\n",
       "\n",
       "    .dataframe thead th {\n",
       "        text-align: right;\n",
       "    }\n",
       "</style>\n",
       "<table border=\"1\" class=\"dataframe\">\n",
       "  <thead>\n",
       "    <tr style=\"text-align: right;\">\n",
       "      <th></th>\n",
       "      <th>time</th>\n",
       "      <th>date</th>\n",
       "      <th>day</th>\n",
       "      <th>text</th>\n",
       "      <th>from</th>\n",
       "    </tr>\n",
       "  </thead>\n",
       "  <tbody>\n",
       "    <tr>\n",
       "      <th>36050</th>\n",
       "      <td>62082</td>\n",
       "      <td>2022-11-01</td>\n",
       "      <td>1</td>\n",
       "      <td>Жить жизнь</td>\n",
       "      <td>Cyber Potato</td>\n",
       "    </tr>\n",
       "    <tr>\n",
       "      <th>36051</th>\n",
       "      <td>62082</td>\n",
       "      <td>2022-11-01</td>\n",
       "      <td>1</td>\n",
       "      <td>лаба по физике</td>\n",
       "      <td>Cyber Potato</td>\n",
       "    </tr>\n",
       "    <tr>\n",
       "      <th>36052</th>\n",
       "      <td>62082</td>\n",
       "      <td>2022-11-01</td>\n",
       "      <td>1</td>\n",
       "      <td></td>\n",
       "      <td>Cyber Potato</td>\n",
       "    </tr>\n",
       "    <tr>\n",
       "      <th>36053</th>\n",
       "      <td>62082</td>\n",
       "      <td>2022-11-01</td>\n",
       "      <td>1</td>\n",
       "      <td></td>\n",
       "      <td>Cyber Potato</td>\n",
       "    </tr>\n",
       "    <tr>\n",
       "      <th>36054</th>\n",
       "      <td>62082</td>\n",
       "      <td>2022-11-01</td>\n",
       "      <td>1</td>\n",
       "      <td></td>\n",
       "      <td>Cyber Potato</td>\n",
       "    </tr>\n",
       "    <tr>\n",
       "      <th>...</th>\n",
       "      <td>...</td>\n",
       "      <td>...</td>\n",
       "      <td>...</td>\n",
       "      <td>...</td>\n",
       "      <td>...</td>\n",
       "    </tr>\n",
       "    <tr>\n",
       "      <th>37641</th>\n",
       "      <td>84862</td>\n",
       "      <td>2022-11-07</td>\n",
       "      <td>0</td>\n",
       "      <td>Да</td>\n",
       "      <td>Сергей Холодильник</td>\n",
       "    </tr>\n",
       "    <tr>\n",
       "      <th>37642</th>\n",
       "      <td>84866</td>\n",
       "      <td>2022-11-07</td>\n",
       "      <td>0</td>\n",
       "      <td>ахуеть</td>\n",
       "      <td>Cyber Potato</td>\n",
       "    </tr>\n",
       "    <tr>\n",
       "      <th>37643</th>\n",
       "      <td>84872</td>\n",
       "      <td>2022-11-07</td>\n",
       "      <td>0</td>\n",
       "      <td>Очень давно</td>\n",
       "      <td>Сергей Холодильник</td>\n",
       "    </tr>\n",
       "    <tr>\n",
       "      <th>37644</th>\n",
       "      <td>84876</td>\n",
       "      <td>2022-11-07</td>\n",
       "      <td>0</td>\n",
       "      <td>Еще с яндекс радио</td>\n",
       "      <td>Сергей Холодильник</td>\n",
       "    </tr>\n",
       "    <tr>\n",
       "      <th>37645</th>\n",
       "      <td>84887</td>\n",
       "      <td>2022-11-07</td>\n",
       "      <td>0</td>\n",
       "      <td>не замечал кекв</td>\n",
       "      <td>Cyber Potato</td>\n",
       "    </tr>\n",
       "  </tbody>\n",
       "</table>\n",
       "<p>1596 rows × 5 columns</p>\n",
       "</div>"
      ],
      "text/plain": [
       "        time        date  day                text                from\n",
       "36050  62082  2022-11-01    1          Жить жизнь        Cyber Potato\n",
       "36051  62082  2022-11-01    1      лаба по физике        Cyber Potato\n",
       "36052  62082  2022-11-01    1                            Cyber Potato\n",
       "36053  62082  2022-11-01    1                            Cyber Potato\n",
       "36054  62082  2022-11-01    1                            Cyber Potato\n",
       "...      ...         ...  ...                 ...                 ...\n",
       "37641  84862  2022-11-07    0                  Да  Сергей Холодильник\n",
       "37642  84866  2022-11-07    0              ахуеть        Cyber Potato\n",
       "37643  84872  2022-11-07    0         Очень давно  Сергей Холодильник\n",
       "37644  84876  2022-11-07    0  Еще с яндекс радио  Сергей Холодильник\n",
       "37645  84887  2022-11-07    0     не замечал кекв        Cyber Potato\n",
       "\n",
       "[1596 rows x 5 columns]"
      ]
     },
     "execution_count": 51,
     "metadata": {},
     "output_type": "execute_result"
    }
   ],
   "source": [
    "# get slice of 1 week\n",
    "from datetime import date, timedelta\n",
    "\n",
    "week = all_messages[(all_messages.date >= date(2022, 11, 1)) & (all_messages.date < date(2022, 11, 8))]\n",
    "week"
   ]
  }
 ],
 "metadata": {
  "kernelspec": {
   "display_name": "Python 3",
   "language": "python",
   "name": "python3"
  },
  "language_info": {
   "codemirror_mode": {
    "name": "ipython",
    "version": 3
   },
   "file_extension": ".py",
   "mimetype": "text/x-python",
   "name": "python",
   "nbconvert_exporter": "python",
   "pygments_lexer": "ipython3",
   "version": "3.10.5"
  },
  "orig_nbformat": 4
 },
 "nbformat": 4,
 "nbformat_minor": 2
}
