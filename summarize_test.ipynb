{
 "cells": [
  {
   "cell_type": "code",
   "execution_count": 3,
   "metadata": {},
   "outputs": [],
   "source": [
    "from telegram_models import TelegramChat, TelegramExport\n",
    "\n",
    "chats = TelegramExport.parse_file('result.json').chats"
   ]
  },
  {
   "cell_type": "code",
   "execution_count": 4,
   "metadata": {},
   "outputs": [
    {
     "name": "stdout",
     "output_type": "stream",
     "text": [
      "Сергей 45932 messages\n"
     ]
    }
   ],
   "source": [
    "chat = next(chat for chat in chats if chat.name == 'Сергей')\n",
    "print(chat.name, len(chat.messages), 'messages')"
   ]
  },
  {
   "cell_type": "code",
   "execution_count": 5,
   "metadata": {},
   "outputs": [],
   "source": [
    "import random\n",
    "\n",
    "def get_random_chunk(length):\n",
    "    start = random.randint(0, len(chat.messages) - length)\n",
    "    return chat.messages[start:start+length]\n",
    "\n",
    "def get_random_chunk_ensure_text(length):\n",
    "    while True:\n",
    "        chunk = get_random_chunk(length)\n",
    "        if all(message.text for message in chunk):\n",
    "            return chunk"
   ]
  },
  {
   "cell_type": "code",
   "execution_count": 6,
   "metadata": {},
   "outputs": [],
   "source": [
    "my_name = 'Cyber Potato'\n",
    "\n",
    "def process_name(name):\n",
    "    if name == my_name:\n",
    "        return 'Я'\n",
    "    return 'Собеседник'"
   ]
  },
  {
   "cell_type": "code",
   "execution_count": 30,
   "metadata": {},
   "outputs": [
    {
     "name": "stdout",
     "output_type": "stream",
     "text": [
      "Я: Ну не хочется\n",
      "Собеседник: Это да\n",
      "Собеседник: Но ты подумай о другом\n",
      "Собеседник: 2 недели\n",
      "Собеседник: И семестра физры нет\n",
      "Я: Ахахахахха\n",
      "Собеседник: по 2 физры в неделю делаем\n",
      "Собеседник: вторник и пятницу\n",
      "Я: Тяжелооо\n",
      "Собеседник: Чисто после физры к марковской\n",
      "Собеседник: Во вторник\n",
      "Я: Ахахахахахахаххахахаахахах\n",
      "Собеседник: Ну блин ты подумай\n",
      "Собеседник: ровно 2 недели\n",
      "Собеседник: Из которых мы 4 раза можем сходить\n",
      "Собеседник: И больше не ходить\n",
      "Я: А откуда число 8\n",
      "Собеседник: 2 пары за раз\n",
      "Собеседник: либо скам 2ух пар за раз\n",
      "Я: Типа почему всего восемь пар\n"
     ]
    }
   ],
   "source": [
    "text = '\\n'.join([\n",
    "    f'{process_name(message.from_)}: {message.text}'\n",
    "    for message in get_random_chunk_ensure_text(20)\n",
    "])\n",
    "\n",
    "print(text)"
   ]
  },
  {
   "attachments": {},
   "cell_type": "markdown",
   "metadata": {},
   "source": [
    "## Summarize"
   ]
  },
  {
   "cell_type": "code",
   "execution_count": null,
   "metadata": {},
   "outputs": [],
   "source": [
    "# to fix error\n",
    "%pip uninstall protobuf -y\n",
    "%pip install protobuf==3.20"
   ]
  },
  {
   "cell_type": "code",
   "execution_count": null,
   "metadata": {},
   "outputs": [],
   "source": [
    "from transformers import MBartTokenizer, MBartForConditionalGeneration\n",
    "\n",
    "# Download model and tokenizer\n",
    "model_name = \"Kirili4ik/mbart_ruDialogSum\"   \n",
    "tokenizer =  MBartTokenizer.from_pretrained(model_name)\n",
    "model = MBartForConditionalGeneration.from_pretrained(model_name, resume_download=True)\n",
    "model.eval()\n",
    "\n",
    "def summarize(text):\n",
    "    input_ids = tokenizer(\n",
    "        [text],\n",
    "        max_length=600,\n",
    "        padding=\"max_length\",\n",
    "        truncation=True,\n",
    "        return_tensors=\"pt\",\n",
    "    )[\"input_ids\"]\n",
    "\n",
    "    output_ids = model.generate(\n",
    "        input_ids=input_ids,\n",
    "        top_k=0,\n",
    "        num_beams=3,\n",
    "        no_repeat_ngram_size=3,\n",
    "        max_new_tokens=100,\n",
    "    )[0]\n",
    "\n",
    "    summary = tokenizer.decode(output_ids, skip_special_tokens=True)\n",
    "    return summary"
   ]
  },
  {
   "cell_type": "code",
   "execution_count": 31,
   "metadata": {},
   "outputs": [
    {
     "name": "stdout",
     "output_type": "stream",
     "text": [
      "Собеседник хочет, чтобы Я больше не ходил на занятия по физре, потому что у них всего 8 часов в неделю.\n"
     ]
    }
   ],
   "source": [
    "print(summarize(text))"
   ]
  }
 ],
 "metadata": {
  "kernelspec": {
   "display_name": "Python 3",
   "language": "python",
   "name": "python3"
  },
  "language_info": {
   "codemirror_mode": {
    "name": "ipython",
    "version": 3
   },
   "file_extension": ".py",
   "mimetype": "text/x-python",
   "name": "python",
   "nbconvert_exporter": "python",
   "pygments_lexer": "ipython3",
   "version": "3.10.5"
  },
  "orig_nbformat": 4
 },
 "nbformat": 4,
 "nbformat_minor": 2
}
