{
 "cells": [
  {
   "cell_type": "code",
   "execution_count": 1,
   "metadata": {},
   "outputs": [],
   "source": [
    "from new_message_mod import TelegramFile, TelegaUser\n",
    "\n",
    "data = TelegramFile.parse_file('result.json')"
   ]
  },
  {
   "cell_type": "code",
   "execution_count": 2,
   "metadata": {},
   "outputs": [],
   "source": [
    "messages = data.chats.list"
   ]
  },
  {
   "cell_type": "code",
   "execution_count": null,
   "metadata": {},
   "outputs": [],
   "source": [
    "# export messages (list of pydantic model objects) to json\n",
    "# не нужно, можно просто загружать файл прям в TK приложении\n",
    "with open('result.json', 'w') as f:\n",
    "    json.dump(messages, f, default=lambda o: o.dict())"
   ]
  },
  {
   "cell_type": "code",
   "execution_count": 7,
   "metadata": {},
   "outputs": [],
   "source": [
    "from typing import List\n",
    "from new_message_mod import Gender\n",
    "import random\n",
    "\n",
    "class DataAggregation:\n",
    "    def __init__(self, th_messages):\n",
    "        self.tg_messages: List[TelegaUser] = messages\n",
    "        \n",
    "    \n",
    "    def _aggregate(self):\n",
    "        for user in self.tg_messages:\n",
    "            for message in user.messages:\n",
    "                print(message.text)\n",
    "    \n",
    "    def __iter__(self):\n",
    "        return iter(self.data)\n",
    "    \n",
    "    def __len__(self):\n",
    "        return len(self.data)\n",
    "    \n",
    "    def __getitem__(self, index):\n",
    "        return self.data[index]\n",
    "    \n",
    "    def __repr__(self):\n",
    "        return f'DataAggregation({self.data})'\n",
    "    \n",
    "\n",
    "    def gender_classifier(self):\n",
    "        for user in self.tg_messages:\n",
    "            while user.gender == None:\n",
    "                # print(prev.name)\n",
    "                gender_input: int  = int(input((user.name if user.name else \"<У человека не указано имя>\") + ' is a 1 - Мужчина, 2 - Женщина, 3 - Неизвестно: '))\n",
    "                if gender_input == 1:\n",
    "                    user.gender = Gender.MALE\n",
    "                elif gender_input == 2:\n",
    "                    user.gender = Gender.FEMALE\n",
    "                else:\n",
    "                    show_random = input('Показать случайное сообщение? (y/n): ')\n",
    "                    if show_random == 'y':\n",
    "                        while True:\n",
    "                            random_message = random.choice(user.messages)\n",
    "                            while random_message.text == None or random_message.text == '' or random_message.from_id == user.id_:\n",
    "                                random_message = random.choice(user.messages)\n",
    "                            \n",
    "                            print(random_message.text)\n",
    "                            \n",
    "                            normal = input('Это нормальное сообщение? (y/n): ')\n",
    "                            print(\"\\n\")\n",
    "                            if normal == 'y':\n",
    "                                break\n",
    "                        \n",
    "                        \n",
    "                    \n",
    "                    "
   ]
  },
  {
   "cell_type": "code",
   "execution_count": 9,
   "metadata": {},
   "outputs": [],
   "source": [
    "dataAg = DataAggregation(messages)"
   ]
  },
  {
   "cell_type": "code",
   "execution_count": 10,
   "metadata": {},
   "outputs": [
    {
     "name": "stdout",
     "output_type": "stream",
     "text": [
      "[Text(type_='link', text='https://3dnews.ru/1028895/povishenie-kadrovoy-chastoti-v-neskolko-klikov-bloger-napisal-programmu-dlya-optimizatsii-cyberpunk-2077', document_id=None, language=None, href=None)]\n",
      "\n",
      "\n"
     ]
    },
    {
     "ename": "ValueError",
     "evalue": "invalid literal for int() with base 10: ''",
     "output_type": "error",
     "traceback": [
      "\u001b[1;31m---------------------------------------------------------------------------\u001b[0m",
      "\u001b[1;31mValueError\u001b[0m                                Traceback (most recent call last)",
      "Cell \u001b[1;32mIn[10], line 1\u001b[0m\n\u001b[1;32m----> 1\u001b[0m dataAg\u001b[39m.\u001b[39;49mgender_classifier()\n",
      "Cell \u001b[1;32mIn[7], line 32\u001b[0m, in \u001b[0;36mDataAggregation.gender_classifier\u001b[1;34m(self)\u001b[0m\n\u001b[0;32m     29\u001b[0m \u001b[39mfor\u001b[39;00m user \u001b[39min\u001b[39;00m \u001b[39mself\u001b[39m\u001b[39m.\u001b[39mtg_messages:\n\u001b[0;32m     30\u001b[0m     \u001b[39mwhile\u001b[39;00m user\u001b[39m.\u001b[39mgender \u001b[39m==\u001b[39m \u001b[39mNone\u001b[39;00m:\n\u001b[0;32m     31\u001b[0m         \u001b[39m# print(prev.name)\u001b[39;00m\n\u001b[1;32m---> 32\u001b[0m         gender_input: \u001b[39mint\u001b[39m  \u001b[39m=\u001b[39m \u001b[39mint\u001b[39;49m(\u001b[39minput\u001b[39;49m((user\u001b[39m.\u001b[39;49mname \u001b[39mif\u001b[39;49;00m user\u001b[39m.\u001b[39;49mname \u001b[39melse\u001b[39;49;00m \u001b[39m\"\u001b[39;49m\u001b[39m<У человека не указано имя>\u001b[39;49m\u001b[39m\"\u001b[39;49m) \u001b[39m+\u001b[39;49m \u001b[39m'\u001b[39;49m\u001b[39m is a 1 - Мужчина, 2 - Женщина, 3 - Неизвестно: \u001b[39;49m\u001b[39m'\u001b[39;49m))\n\u001b[0;32m     33\u001b[0m         \u001b[39mif\u001b[39;00m gender_input \u001b[39m==\u001b[39m \u001b[39m1\u001b[39m:\n\u001b[0;32m     34\u001b[0m             user\u001b[39m.\u001b[39mgender \u001b[39m=\u001b[39m Gender\u001b[39m.\u001b[39mMALE\n",
      "\u001b[1;31mValueError\u001b[0m: invalid literal for int() with base 10: ''"
     ]
    }
   ],
   "source": [
    "dataAg.gender_classifier()"
   ]
  }
 ],
 "metadata": {
  "kernelspec": {
   "display_name": "Python 3.10.5 64-bit",
   "language": "python",
   "name": "python3"
  },
  "language_info": {
   "codemirror_mode": {
    "name": "ipython",
    "version": 3
   },
   "file_extension": ".py",
   "mimetype": "text/x-python",
   "name": "python",
   "nbconvert_exporter": "python",
   "pygments_lexer": "ipython3",
   "version": "3.10.5"
  },
  "orig_nbformat": 4,
  "vscode": {
   "interpreter": {
    "hash": "2469a70536e4d2335a2ea8907942d0699c37342a371ac185bdb5b0aa6f073890"
   }
  }
 },
 "nbformat": 4,
 "nbformat_minor": 2
}
